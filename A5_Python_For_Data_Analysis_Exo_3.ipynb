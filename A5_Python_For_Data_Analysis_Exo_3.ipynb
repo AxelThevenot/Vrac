{
 "cells": [
  {
   "cell_type": "code",
   "execution_count": 1,
   "metadata": {
    "id": "IvmwnAKEkmEV"
   },
   "outputs": [],
   "source": [
    "import random\n",
    "n=10"
   ]
  },
  {
   "cell_type": "markdown",
   "metadata": {
    "id": "c00FKseppLtA"
   },
   "source": [
    "###**Construction classique d'une liste**\n",
    "\n"
   ]
  },
  {
   "cell_type": "code",
   "execution_count": 2,
   "metadata": {
    "id": "XddxegPSokoJ"
   },
   "outputs": [],
   "source": [
    "chaine_de_carac = \"azertyuiop\"\n",
    "liste =[]\n",
    "for _ in range(n):\n",
    "  caractere = random.choice(chaine_de_carac)\n",
    "  liste.append(caractere)"
   ]
  },
  {
   "cell_type": "code",
   "execution_count": 3,
   "metadata": {
    "colab": {
     "base_uri": "https://localhost:8080/",
     "height": 34
    },
    "id": "Pt3gUH-Do1KV",
    "outputId": "245008a9-2320-4a63-e1b9-05fedc8651f2"
   },
   "outputs": [
    {
     "data": {
      "text/plain": [
       "['i', 'z', 't', 'r', 'a', 'e', 'r', 'i', 't', 'i']"
      ]
     },
     "execution_count": 3,
     "metadata": {},
     "output_type": "execute_result"
    }
   ],
   "source": [
    "liste"
   ]
  },
  {
   "cell_type": "markdown",
   "metadata": {
    "id": "bA3ThiR6pM3C"
   },
   "source": [
    "### **Construction moder via comprehension liste**"
   ]
  },
  {
   "cell_type": "code",
   "execution_count": 4,
   "metadata": {
    "colab": {
     "base_uri": "https://localhost:8080/",
     "height": 34
    },
    "id": "b_wUhj1Lo1m8",
    "outputId": "609db0ee-06c5-4858-9cb1-57c87cf97c3c"
   },
   "outputs": [
    {
     "data": {
      "text/plain": [
       "['u', 'i', 'u', 'y', 't', 'y', 'u', 'i', 'i', 'o']"
      ]
     },
     "execution_count": 4,
     "metadata": {},
     "output_type": "execute_result"
    }
   ],
   "source": [
    "# f(x) for x in seuquence\n",
    "liste2= [random.choice(chaine_de_carac) for _ in range(n)]\n",
    "liste2"
   ]
  },
  {
   "cell_type": "code",
   "execution_count": 5,
   "metadata": {
    "colab": {
     "base_uri": "https://localhost:8080/",
     "height": 34
    },
    "id": "aVdKW5JDpH57",
    "outputId": "07ac60d0-aa29-4d47-820e-4979f12b7726"
   },
   "outputs": [
    {
     "data": {
      "text/plain": [
       "['e', 'e', 'e', 'e', 'e', 'e', 'e', 'e', 'e', 'e']"
      ]
     },
     "execution_count": 5,
     "metadata": {},
     "output_type": "execute_result"
    }
   ],
   "source": [
    "liste2 = [\"e\" for _ in range(n)]\n",
    "liste2"
   ]
  },
  {
   "cell_type": "markdown",
   "metadata": {
    "id": "RzCgusTvqKtF"
   },
   "source": [
    "####**Multiplication de liste**"
   ]
  },
  {
   "cell_type": "code",
   "execution_count": 6,
   "metadata": {
    "colab": {
     "base_uri": "https://localhost:8080/",
     "height": 34
    },
    "id": "Y68ZvUEypqb3",
    "outputId": "1cceba4d-3bfa-4724-da0c-9581b707a1b9"
   },
   "outputs": [
    {
     "data": {
      "text/plain": [
       "['e', 'e', 'e', 'e', 'e', 'e', 'e', 'e', 'e', 'e']"
      ]
     },
     "execution_count": 6,
     "metadata": {},
     "output_type": "execute_result"
    }
   ],
   "source": [
    "liste2 = [\"e\"]*10\n",
    "liste2"
   ]
  },
  {
   "cell_type": "markdown",
   "metadata": {
    "id": "66jKETZmqOy9"
   },
   "source": [
    "#### **Compréhension list condition if only**"
   ]
  },
  {
   "cell_type": "code",
   "execution_count": 7,
   "metadata": {
    "colab": {
     "base_uri": "https://localhost:8080/",
     "height": 34
    },
    "id": "jfmh2_RqpuVV",
    "outputId": "0912a6ec-15f1-4cff-9fb5-7038f1643bf6"
   },
   "outputs": [
    {
     "data": {
      "text/plain": [
       "[0, 2, 4, 6, 8]"
      ]
     },
     "execution_count": 7,
     "metadata": {},
     "output_type": "execute_result"
    }
   ],
   "source": [
    "#f(x) for x in sequence if condition\n",
    "liste2 = [ _ for _ in range(n) if _%2==0]\n",
    "liste2"
   ]
  },
  {
   "cell_type": "markdown",
   "metadata": {
    "id": "mbFYkCKMqSCP"
   },
   "source": [
    "####**Liste condition if et else**"
   ]
  },
  {
   "cell_type": "code",
   "execution_count": 8,
   "metadata": {
    "colab": {
     "base_uri": "https://localhost:8080/",
     "height": 34
    },
    "id": "XWEWV01Hp22R",
    "outputId": "5feabed2-e3fb-483d-c4e7-15eef660ffdf"
   },
   "outputs": [
    {
     "data": {
      "text/plain": [
       "[0, 'impair', 2, 'impair', 4, 'impair', 6, 'impair', 8, 'impair']"
      ]
     },
     "execution_count": 8,
     "metadata": {},
     "output_type": "execute_result"
    }
   ],
   "source": [
    "#f(x) if condition else g(x) for x in sequence\n",
    "liste2 = [_ if _%2==0 else \"impair\" for _ in range(n)]\n",
    "liste2"
   ]
  },
  {
   "cell_type": "code",
   "execution_count": 9,
   "metadata": {
    "colab": {
     "base_uri": "https://localhost:8080/",
     "height": 34
    },
    "id": "b6Y5GFK1qDKR",
    "outputId": "44e9662b-a861-48e7-866c-b4dd2fa266aa"
   },
   "outputs": [
    {
     "data": {
      "text/plain": [
       "[0, 'impair', 2, 'impair', 4, 'impair', 6, 'impair', 8, 'impair']"
      ]
     },
     "execution_count": 9,
     "metadata": {},
     "output_type": "execute_result"
    }
   ],
   "source": [
    "# EQUIVAUT A\n",
    "\n",
    "liste2=[]\n",
    "def pairouimpair(x):\n",
    "    if x%2==0:\n",
    "        return x\n",
    "    else:\n",
    "        return \"impair\"\n",
    "for i in range(n):\n",
    "    liste2.append(pairouimpair(i))\n",
    "liste2\n"
   ]
  },
  {
   "cell_type": "code",
   "execution_count": 10,
   "metadata": {
    "id": "yn-sH_b3qXEy"
   },
   "outputs": [],
   "source": [
    "# Tout ce qui n'est pas 0 est vraie\n",
    "\n",
    "liste2 = [_ if _%2 else \"pair\" for _ in range(n)]"
   ]
  },
  {
   "cell_type": "code",
   "execution_count": 11,
   "metadata": {
    "colab": {
     "base_uri": "https://localhost:8080/",
     "height": 34
    },
    "id": "ya0Ezx6mqkvU",
    "outputId": "7becfeac-f13c-4a18-b9ba-bab27186ad38"
   },
   "outputs": [
    {
     "name": "stdout",
     "output_type": "stream",
     "text": [
      "0 est faux\n"
     ]
    }
   ],
   "source": [
    "if 0:\n",
    "  print(\"0 est vrai\")\n",
    "else:\n",
    "  print(\"0 est faux\")"
   ]
  },
  {
   "cell_type": "code",
   "execution_count": 12,
   "metadata": {
    "colab": {
     "base_uri": "https://localhost:8080/",
     "height": 34
    },
    "id": "VEnaHEHzqq4Z",
    "outputId": "4436547f-f8fb-473d-b7c6-7ee1e8f80ca5"
   },
   "outputs": [
    {
     "name": "stdout",
     "output_type": "stream",
     "text": [
      "1 est vrai\n"
     ]
    }
   ],
   "source": [
    "if 1:\n",
    "  print(\"1 est vrai\")\n",
    "else:\n",
    "  print(\"1 est faux\")"
   ]
  },
  {
   "cell_type": "markdown",
   "metadata": {
    "id": "Lz8z5Z47qwGz"
   },
   "source": [
    "# **Lambda Fonction**"
   ]
  },
  {
   "cell_type": "code",
   "execution_count": 13,
   "metadata": {
    "id": "4_ie5T1Vqufc"
   },
   "outputs": [],
   "source": [
    "valeur = lambda param : param \n",
    "#valeur = lambda x:f(x)"
   ]
  },
  {
   "cell_type": "code",
   "execution_count": 14,
   "metadata": {
    "colab": {
     "base_uri": "https://localhost:8080/",
     "height": 35
    },
    "id": "CvXBhEG2q2LF",
    "outputId": "e9b0d7cb-20a9-4ad2-d31e-90d80e4266b6"
   },
   "outputs": [
    {
     "data": {
      "text/plain": [
       "'e'"
      ]
     },
     "execution_count": 14,
     "metadata": {},
     "output_type": "execute_result"
    }
   ],
   "source": [
    "valeur(\"e\")"
   ]
  },
  {
   "cell_type": "code",
   "execution_count": 15,
   "metadata": {
    "colab": {
     "base_uri": "https://localhost:8080/",
     "height": 35
    },
    "id": "FZ0pbvMoq5fW",
    "outputId": "9d17b641-e85c-4005-ef54-f47a66ac1708"
   },
   "outputs": [
    {
     "data": {
      "text/plain": [
       "'ee'"
      ]
     },
     "execution_count": 15,
     "metadata": {},
     "output_type": "execute_result"
    }
   ],
   "source": [
    "deux_fois = lambda param : param*2\n",
    "deux_fois(\"e\")"
   ]
  },
  {
   "cell_type": "code",
   "execution_count": 16,
   "metadata": {
    "colab": {
     "base_uri": "https://localhost:8080/",
     "height": 35
    },
    "id": "WbehnmUoq-LJ",
    "outputId": "ab72d9a0-f885-4281-de14-e1c24b1f6b0a"
   },
   "outputs": [
    {
     "data": {
      "text/plain": [
       "'ee'"
      ]
     },
     "execution_count": 16,
     "metadata": {},
     "output_type": "execute_result"
    }
   ],
   "source": [
    "# Même chose qu'au dessus de manière \"classique\"\n",
    "def deux_fois(x):\n",
    "  return x*2\n",
    "deux_fois(\"e\")"
   ]
  },
  {
   "cell_type": "code",
   "execution_count": 17,
   "metadata": {
    "colab": {
     "base_uri": "https://localhost:8080/",
     "height": 34
    },
    "id": "scKZsRsorScU",
    "outputId": "f4ad55e1-e421-4742-cd6f-bd603c64b644"
   },
   "outputs": [
    {
     "data": {
      "text/plain": [
       "[0, 2, 4, 6, 8, 10, 12, 14, 16, 18]"
      ]
     },
     "execution_count": 17,
     "metadata": {},
     "output_type": "execute_result"
    }
   ],
   "source": [
    "zero_dixhuit = [deux_fois(_) for _ in range(10)]\n",
    "zero_dixhuit"
   ]
  },
  {
   "cell_type": "markdown",
   "metadata": {
    "id": "-HW__rnKrtVN"
   },
   "source": [
    "## Transmitting arbitrary named parameters to a function"
   ]
  },
  {
   "cell_type": "code",
   "execution_count": 18,
   "metadata": {
    "id": "EaYd-0fmrgp7"
   },
   "outputs": [
    {
     "data": {
      "text/html": [
       "<div>\n",
       "<style scoped>\n",
       "    .dataframe tbody tr th:only-of-type {\n",
       "        vertical-align: middle;\n",
       "    }\n",
       "\n",
       "    .dataframe tbody tr th {\n",
       "        vertical-align: top;\n",
       "    }\n",
       "\n",
       "    .dataframe thead th {\n",
       "        text-align: right;\n",
       "    }\n",
       "</style>\n",
       "<table border=\"1\" class=\"dataframe\">\n",
       "  <thead>\n",
       "    <tr style=\"text-align: right;\">\n",
       "      <th></th>\n",
       "      <th>eleves</th>\n",
       "      <th>notes</th>\n",
       "    </tr>\n",
       "  </thead>\n",
       "  <tbody>\n",
       "    <tr>\n",
       "      <th>0</th>\n",
       "      <td>Titi</td>\n",
       "      <td>14</td>\n",
       "    </tr>\n",
       "    <tr>\n",
       "      <th>1</th>\n",
       "      <td>Tata</td>\n",
       "      <td>5</td>\n",
       "    </tr>\n",
       "    <tr>\n",
       "      <th>2</th>\n",
       "      <td>Nekou</td>\n",
       "      <td>2</td>\n",
       "    </tr>\n",
       "    <tr>\n",
       "      <th>3</th>\n",
       "      <td>Nekou</td>\n",
       "      <td>18</td>\n",
       "    </tr>\n",
       "    <tr>\n",
       "      <th>4</th>\n",
       "      <td>Cacahuete</td>\n",
       "      <td>13</td>\n",
       "    </tr>\n",
       "    <tr>\n",
       "      <th>5</th>\n",
       "      <td>Toto</td>\n",
       "      <td>12</td>\n",
       "    </tr>\n",
       "    <tr>\n",
       "      <th>6</th>\n",
       "      <td>Nekou</td>\n",
       "      <td>18</td>\n",
       "    </tr>\n",
       "    <tr>\n",
       "      <th>7</th>\n",
       "      <td>Nekou</td>\n",
       "      <td>1</td>\n",
       "    </tr>\n",
       "    <tr>\n",
       "      <th>8</th>\n",
       "      <td>Toto</td>\n",
       "      <td>15</td>\n",
       "    </tr>\n",
       "    <tr>\n",
       "      <th>9</th>\n",
       "      <td>Sergio</td>\n",
       "      <td>13</td>\n",
       "    </tr>\n",
       "    <tr>\n",
       "      <th>10</th>\n",
       "      <td>Titi</td>\n",
       "      <td>11</td>\n",
       "    </tr>\n",
       "    <tr>\n",
       "      <th>11</th>\n",
       "      <td>Toto</td>\n",
       "      <td>16</td>\n",
       "    </tr>\n",
       "    <tr>\n",
       "      <th>12</th>\n",
       "      <td>Cacahuete</td>\n",
       "      <td>8</td>\n",
       "    </tr>\n",
       "    <tr>\n",
       "      <th>13</th>\n",
       "      <td>Toto</td>\n",
       "      <td>2</td>\n",
       "    </tr>\n",
       "    <tr>\n",
       "      <th>14</th>\n",
       "      <td>Nekou</td>\n",
       "      <td>13</td>\n",
       "    </tr>\n",
       "    <tr>\n",
       "      <th>15</th>\n",
       "      <td>Pouet</td>\n",
       "      <td>12</td>\n",
       "    </tr>\n",
       "    <tr>\n",
       "      <th>16</th>\n",
       "      <td>Sergio</td>\n",
       "      <td>16</td>\n",
       "    </tr>\n",
       "    <tr>\n",
       "      <th>17</th>\n",
       "      <td>Tata</td>\n",
       "      <td>13</td>\n",
       "    </tr>\n",
       "    <tr>\n",
       "      <th>18</th>\n",
       "      <td>Nekou</td>\n",
       "      <td>18</td>\n",
       "    </tr>\n",
       "    <tr>\n",
       "      <th>19</th>\n",
       "      <td>Toto</td>\n",
       "      <td>13</td>\n",
       "    </tr>\n",
       "    <tr>\n",
       "      <th>20</th>\n",
       "      <td>Pouet</td>\n",
       "      <td>19</td>\n",
       "    </tr>\n",
       "    <tr>\n",
       "      <th>21</th>\n",
       "      <td>Nekou</td>\n",
       "      <td>15</td>\n",
       "    </tr>\n",
       "    <tr>\n",
       "      <th>22</th>\n",
       "      <td>Toto</td>\n",
       "      <td>17</td>\n",
       "    </tr>\n",
       "    <tr>\n",
       "      <th>23</th>\n",
       "      <td>Sergio</td>\n",
       "      <td>13</td>\n",
       "    </tr>\n",
       "    <tr>\n",
       "      <th>24</th>\n",
       "      <td>Titi</td>\n",
       "      <td>18</td>\n",
       "    </tr>\n",
       "    <tr>\n",
       "      <th>25</th>\n",
       "      <td>Sergio</td>\n",
       "      <td>5</td>\n",
       "    </tr>\n",
       "    <tr>\n",
       "      <th>26</th>\n",
       "      <td>Titi</td>\n",
       "      <td>9</td>\n",
       "    </tr>\n",
       "    <tr>\n",
       "      <th>27</th>\n",
       "      <td>Cacahuete</td>\n",
       "      <td>2</td>\n",
       "    </tr>\n",
       "    <tr>\n",
       "      <th>28</th>\n",
       "      <td>Toto</td>\n",
       "      <td>3</td>\n",
       "    </tr>\n",
       "    <tr>\n",
       "      <th>29</th>\n",
       "      <td>Titi</td>\n",
       "      <td>19</td>\n",
       "    </tr>\n",
       "    <tr>\n",
       "      <th>30</th>\n",
       "      <td>Nekou</td>\n",
       "      <td>1</td>\n",
       "    </tr>\n",
       "    <tr>\n",
       "      <th>31</th>\n",
       "      <td>Sergio</td>\n",
       "      <td>5</td>\n",
       "    </tr>\n",
       "    <tr>\n",
       "      <th>32</th>\n",
       "      <td>Toto</td>\n",
       "      <td>7</td>\n",
       "    </tr>\n",
       "    <tr>\n",
       "      <th>33</th>\n",
       "      <td>Nekou</td>\n",
       "      <td>10</td>\n",
       "    </tr>\n",
       "    <tr>\n",
       "      <th>34</th>\n",
       "      <td>Sergio</td>\n",
       "      <td>1</td>\n",
       "    </tr>\n",
       "    <tr>\n",
       "      <th>35</th>\n",
       "      <td>Lodret</td>\n",
       "      <td>5</td>\n",
       "    </tr>\n",
       "    <tr>\n",
       "      <th>36</th>\n",
       "      <td>Sergio</td>\n",
       "      <td>4</td>\n",
       "    </tr>\n",
       "    <tr>\n",
       "      <th>37</th>\n",
       "      <td>Cacahuete</td>\n",
       "      <td>17</td>\n",
       "    </tr>\n",
       "    <tr>\n",
       "      <th>38</th>\n",
       "      <td>Sergio</td>\n",
       "      <td>15</td>\n",
       "    </tr>\n",
       "    <tr>\n",
       "      <th>39</th>\n",
       "      <td>Titi</td>\n",
       "      <td>1</td>\n",
       "    </tr>\n",
       "    <tr>\n",
       "      <th>40</th>\n",
       "      <td>Toto</td>\n",
       "      <td>11</td>\n",
       "    </tr>\n",
       "    <tr>\n",
       "      <th>41</th>\n",
       "      <td>Tata</td>\n",
       "      <td>12</td>\n",
       "    </tr>\n",
       "    <tr>\n",
       "      <th>42</th>\n",
       "      <td>Lodret</td>\n",
       "      <td>14</td>\n",
       "    </tr>\n",
       "    <tr>\n",
       "      <th>43</th>\n",
       "      <td>Pouet</td>\n",
       "      <td>14</td>\n",
       "    </tr>\n",
       "    <tr>\n",
       "      <th>44</th>\n",
       "      <td>Pouet</td>\n",
       "      <td>2</td>\n",
       "    </tr>\n",
       "    <tr>\n",
       "      <th>45</th>\n",
       "      <td>Tata</td>\n",
       "      <td>16</td>\n",
       "    </tr>\n",
       "    <tr>\n",
       "      <th>46</th>\n",
       "      <td>Lodret</td>\n",
       "      <td>2</td>\n",
       "    </tr>\n",
       "    <tr>\n",
       "      <th>47</th>\n",
       "      <td>Sergio</td>\n",
       "      <td>3</td>\n",
       "    </tr>\n",
       "    <tr>\n",
       "      <th>48</th>\n",
       "      <td>Nekou</td>\n",
       "      <td>19</td>\n",
       "    </tr>\n",
       "    <tr>\n",
       "      <th>49</th>\n",
       "      <td>Sergio</td>\n",
       "      <td>6</td>\n",
       "    </tr>\n",
       "    <tr>\n",
       "      <th>50</th>\n",
       "      <td>Lodret</td>\n",
       "      <td>11</td>\n",
       "    </tr>\n",
       "    <tr>\n",
       "      <th>51</th>\n",
       "      <td>Nekou</td>\n",
       "      <td>5</td>\n",
       "    </tr>\n",
       "    <tr>\n",
       "      <th>52</th>\n",
       "      <td>Cacahuete</td>\n",
       "      <td>6</td>\n",
       "    </tr>\n",
       "    <tr>\n",
       "      <th>53</th>\n",
       "      <td>Tata</td>\n",
       "      <td>10</td>\n",
       "    </tr>\n",
       "    <tr>\n",
       "      <th>54</th>\n",
       "      <td>Lodret</td>\n",
       "      <td>20</td>\n",
       "    </tr>\n",
       "    <tr>\n",
       "      <th>55</th>\n",
       "      <td>Toto</td>\n",
       "      <td>9</td>\n",
       "    </tr>\n",
       "    <tr>\n",
       "      <th>56</th>\n",
       "      <td>Nekou</td>\n",
       "      <td>4</td>\n",
       "    </tr>\n",
       "    <tr>\n",
       "      <th>57</th>\n",
       "      <td>Tata</td>\n",
       "      <td>5</td>\n",
       "    </tr>\n",
       "    <tr>\n",
       "      <th>58</th>\n",
       "      <td>Tata</td>\n",
       "      <td>14</td>\n",
       "    </tr>\n",
       "    <tr>\n",
       "      <th>59</th>\n",
       "      <td>Sergio</td>\n",
       "      <td>13</td>\n",
       "    </tr>\n",
       "  </tbody>\n",
       "</table>\n",
       "</div>"
      ],
      "text/plain": [
       "       eleves  notes\n",
       "0        Titi     14\n",
       "1        Tata      5\n",
       "2       Nekou      2\n",
       "3       Nekou     18\n",
       "4   Cacahuete     13\n",
       "5        Toto     12\n",
       "6       Nekou     18\n",
       "7       Nekou      1\n",
       "8        Toto     15\n",
       "9      Sergio     13\n",
       "10       Titi     11\n",
       "11       Toto     16\n",
       "12  Cacahuete      8\n",
       "13       Toto      2\n",
       "14      Nekou     13\n",
       "15      Pouet     12\n",
       "16     Sergio     16\n",
       "17       Tata     13\n",
       "18      Nekou     18\n",
       "19       Toto     13\n",
       "20      Pouet     19\n",
       "21      Nekou     15\n",
       "22       Toto     17\n",
       "23     Sergio     13\n",
       "24       Titi     18\n",
       "25     Sergio      5\n",
       "26       Titi      9\n",
       "27  Cacahuete      2\n",
       "28       Toto      3\n",
       "29       Titi     19\n",
       "30      Nekou      1\n",
       "31     Sergio      5\n",
       "32       Toto      7\n",
       "33      Nekou     10\n",
       "34     Sergio      1\n",
       "35     Lodret      5\n",
       "36     Sergio      4\n",
       "37  Cacahuete     17\n",
       "38     Sergio     15\n",
       "39       Titi      1\n",
       "40       Toto     11\n",
       "41       Tata     12\n",
       "42     Lodret     14\n",
       "43      Pouet     14\n",
       "44      Pouet      2\n",
       "45       Tata     16\n",
       "46     Lodret      2\n",
       "47     Sergio      3\n",
       "48      Nekou     19\n",
       "49     Sergio      6\n",
       "50     Lodret     11\n",
       "51      Nekou      5\n",
       "52  Cacahuete      6\n",
       "53       Tata     10\n",
       "54     Lodret     20\n",
       "55       Toto      9\n",
       "56      Nekou      4\n",
       "57       Tata      5\n",
       "58       Tata     14\n",
       "59     Sergio     13"
      ]
     },
     "execution_count": 18,
     "metadata": {},
     "output_type": "execute_result"
    }
   ],
   "source": [
    "# D'abord random dataframe\n",
    "\n",
    "import random\n",
    "import pandas as pd\n",
    "\n",
    "eleves = [\"Toto\",\"Tata\", \"Pouet\", \"Lodret\", \"Cacahuete\", \"Sergio\", \"Nekou\", \"Titi\"]\n",
    "\n",
    "# liste compréhension\n",
    "liste_eleves =[random.choice(eleves) for _ in range(60)]\n",
    "\n",
    "#EQUIVALENT TO\n",
    "# liste_eleve = []\n",
    "# for _ in range(60) : \n",
    "#   liste_eleves.append(random.choice(eleves))\n",
    "\n",
    "def note():\n",
    "  return(random.randint(1,20))\n",
    "\n",
    "notes = [note() for _ in range(60)]\n",
    "\n",
    "eleves_notes = pd.DataFrame()\n",
    "eleves_notes['eleves'] = liste_eleves\n",
    "eleves_notes['notes'] = notes\n",
    "eleves_notes\n"
   ]
  },
  {
   "cell_type": "markdown",
   "metadata": {
    "id": "r_0v7efosw5N"
   },
   "source": [
    "##Transmitting rank as parameter when using pandas grouby apply()"
   ]
  },
  {
   "cell_type": "code",
   "execution_count": 19,
   "metadata": {
    "id": "JQ9tJtzFsDaT"
   },
   "outputs": [
    {
     "data": {
      "text/html": [
       "<div>\n",
       "<style scoped>\n",
       "    .dataframe tbody tr th:only-of-type {\n",
       "        vertical-align: middle;\n",
       "    }\n",
       "\n",
       "    .dataframe tbody tr th {\n",
       "        vertical-align: top;\n",
       "    }\n",
       "\n",
       "    .dataframe thead th {\n",
       "        text-align: right;\n",
       "    }\n",
       "</style>\n",
       "<table border=\"1\" class=\"dataframe\">\n",
       "  <thead>\n",
       "    <tr style=\"text-align: right;\">\n",
       "      <th></th>\n",
       "      <th></th>\n",
       "      <th>eleves</th>\n",
       "      <th>notes</th>\n",
       "    </tr>\n",
       "    <tr>\n",
       "      <th>eleves</th>\n",
       "      <th></th>\n",
       "      <th></th>\n",
       "      <th></th>\n",
       "    </tr>\n",
       "  </thead>\n",
       "  <tbody>\n",
       "    <tr>\n",
       "      <th rowspan=\"5\" valign=\"top\">Cacahuete</th>\n",
       "      <th>27</th>\n",
       "      <td>Cacahuete</td>\n",
       "      <td>2</td>\n",
       "    </tr>\n",
       "    <tr>\n",
       "      <th>52</th>\n",
       "      <td>Cacahuete</td>\n",
       "      <td>6</td>\n",
       "    </tr>\n",
       "    <tr>\n",
       "      <th>12</th>\n",
       "      <td>Cacahuete</td>\n",
       "      <td>8</td>\n",
       "    </tr>\n",
       "    <tr>\n",
       "      <th>4</th>\n",
       "      <td>Cacahuete</td>\n",
       "      <td>13</td>\n",
       "    </tr>\n",
       "    <tr>\n",
       "      <th>37</th>\n",
       "      <td>Cacahuete</td>\n",
       "      <td>17</td>\n",
       "    </tr>\n",
       "    <tr>\n",
       "      <th rowspan=\"5\" valign=\"top\">Lodret</th>\n",
       "      <th>46</th>\n",
       "      <td>Lodret</td>\n",
       "      <td>2</td>\n",
       "    </tr>\n",
       "    <tr>\n",
       "      <th>35</th>\n",
       "      <td>Lodret</td>\n",
       "      <td>5</td>\n",
       "    </tr>\n",
       "    <tr>\n",
       "      <th>50</th>\n",
       "      <td>Lodret</td>\n",
       "      <td>11</td>\n",
       "    </tr>\n",
       "    <tr>\n",
       "      <th>42</th>\n",
       "      <td>Lodret</td>\n",
       "      <td>14</td>\n",
       "    </tr>\n",
       "    <tr>\n",
       "      <th>54</th>\n",
       "      <td>Lodret</td>\n",
       "      <td>20</td>\n",
       "    </tr>\n",
       "    <tr>\n",
       "      <th rowspan=\"5\" valign=\"top\">Nekou</th>\n",
       "      <th>21</th>\n",
       "      <td>Nekou</td>\n",
       "      <td>15</td>\n",
       "    </tr>\n",
       "    <tr>\n",
       "      <th>3</th>\n",
       "      <td>Nekou</td>\n",
       "      <td>18</td>\n",
       "    </tr>\n",
       "    <tr>\n",
       "      <th>6</th>\n",
       "      <td>Nekou</td>\n",
       "      <td>18</td>\n",
       "    </tr>\n",
       "    <tr>\n",
       "      <th>18</th>\n",
       "      <td>Nekou</td>\n",
       "      <td>18</td>\n",
       "    </tr>\n",
       "    <tr>\n",
       "      <th>48</th>\n",
       "      <td>Nekou</td>\n",
       "      <td>19</td>\n",
       "    </tr>\n",
       "    <tr>\n",
       "      <th rowspan=\"4\" valign=\"top\">Pouet</th>\n",
       "      <th>44</th>\n",
       "      <td>Pouet</td>\n",
       "      <td>2</td>\n",
       "    </tr>\n",
       "    <tr>\n",
       "      <th>15</th>\n",
       "      <td>Pouet</td>\n",
       "      <td>12</td>\n",
       "    </tr>\n",
       "    <tr>\n",
       "      <th>43</th>\n",
       "      <td>Pouet</td>\n",
       "      <td>14</td>\n",
       "    </tr>\n",
       "    <tr>\n",
       "      <th>20</th>\n",
       "      <td>Pouet</td>\n",
       "      <td>19</td>\n",
       "    </tr>\n",
       "    <tr>\n",
       "      <th rowspan=\"5\" valign=\"top\">Sergio</th>\n",
       "      <th>9</th>\n",
       "      <td>Sergio</td>\n",
       "      <td>13</td>\n",
       "    </tr>\n",
       "    <tr>\n",
       "      <th>23</th>\n",
       "      <td>Sergio</td>\n",
       "      <td>13</td>\n",
       "    </tr>\n",
       "    <tr>\n",
       "      <th>59</th>\n",
       "      <td>Sergio</td>\n",
       "      <td>13</td>\n",
       "    </tr>\n",
       "    <tr>\n",
       "      <th>38</th>\n",
       "      <td>Sergio</td>\n",
       "      <td>15</td>\n",
       "    </tr>\n",
       "    <tr>\n",
       "      <th>16</th>\n",
       "      <td>Sergio</td>\n",
       "      <td>16</td>\n",
       "    </tr>\n",
       "    <tr>\n",
       "      <th rowspan=\"5\" valign=\"top\">Tata</th>\n",
       "      <th>53</th>\n",
       "      <td>Tata</td>\n",
       "      <td>10</td>\n",
       "    </tr>\n",
       "    <tr>\n",
       "      <th>41</th>\n",
       "      <td>Tata</td>\n",
       "      <td>12</td>\n",
       "    </tr>\n",
       "    <tr>\n",
       "      <th>17</th>\n",
       "      <td>Tata</td>\n",
       "      <td>13</td>\n",
       "    </tr>\n",
       "    <tr>\n",
       "      <th>58</th>\n",
       "      <td>Tata</td>\n",
       "      <td>14</td>\n",
       "    </tr>\n",
       "    <tr>\n",
       "      <th>45</th>\n",
       "      <td>Tata</td>\n",
       "      <td>16</td>\n",
       "    </tr>\n",
       "    <tr>\n",
       "      <th rowspan=\"5\" valign=\"top\">Titi</th>\n",
       "      <th>26</th>\n",
       "      <td>Titi</td>\n",
       "      <td>9</td>\n",
       "    </tr>\n",
       "    <tr>\n",
       "      <th>10</th>\n",
       "      <td>Titi</td>\n",
       "      <td>11</td>\n",
       "    </tr>\n",
       "    <tr>\n",
       "      <th>0</th>\n",
       "      <td>Titi</td>\n",
       "      <td>14</td>\n",
       "    </tr>\n",
       "    <tr>\n",
       "      <th>24</th>\n",
       "      <td>Titi</td>\n",
       "      <td>18</td>\n",
       "    </tr>\n",
       "    <tr>\n",
       "      <th>29</th>\n",
       "      <td>Titi</td>\n",
       "      <td>19</td>\n",
       "    </tr>\n",
       "    <tr>\n",
       "      <th rowspan=\"5\" valign=\"top\">Toto</th>\n",
       "      <th>5</th>\n",
       "      <td>Toto</td>\n",
       "      <td>12</td>\n",
       "    </tr>\n",
       "    <tr>\n",
       "      <th>19</th>\n",
       "      <td>Toto</td>\n",
       "      <td>13</td>\n",
       "    </tr>\n",
       "    <tr>\n",
       "      <th>8</th>\n",
       "      <td>Toto</td>\n",
       "      <td>15</td>\n",
       "    </tr>\n",
       "    <tr>\n",
       "      <th>11</th>\n",
       "      <td>Toto</td>\n",
       "      <td>16</td>\n",
       "    </tr>\n",
       "    <tr>\n",
       "      <th>22</th>\n",
       "      <td>Toto</td>\n",
       "      <td>17</td>\n",
       "    </tr>\n",
       "  </tbody>\n",
       "</table>\n",
       "</div>"
      ],
      "text/plain": [
       "                 eleves  notes\n",
       "eleves                        \n",
       "Cacahuete 27  Cacahuete      2\n",
       "          52  Cacahuete      6\n",
       "          12  Cacahuete      8\n",
       "          4   Cacahuete     13\n",
       "          37  Cacahuete     17\n",
       "Lodret    46     Lodret      2\n",
       "          35     Lodret      5\n",
       "          50     Lodret     11\n",
       "          42     Lodret     14\n",
       "          54     Lodret     20\n",
       "Nekou     21      Nekou     15\n",
       "          3       Nekou     18\n",
       "          6       Nekou     18\n",
       "          18      Nekou     18\n",
       "          48      Nekou     19\n",
       "Pouet     44      Pouet      2\n",
       "          15      Pouet     12\n",
       "          43      Pouet     14\n",
       "          20      Pouet     19\n",
       "Sergio    9      Sergio     13\n",
       "          23     Sergio     13\n",
       "          59     Sergio     13\n",
       "          38     Sergio     15\n",
       "          16     Sergio     16\n",
       "Tata      53       Tata     10\n",
       "          41       Tata     12\n",
       "          17       Tata     13\n",
       "          58       Tata     14\n",
       "          45       Tata     16\n",
       "Titi      26       Titi      9\n",
       "          10       Titi     11\n",
       "          0        Titi     14\n",
       "          24       Titi     18\n",
       "          29       Titi     19\n",
       "Toto      5        Toto     12\n",
       "          19       Toto     13\n",
       "          8        Toto     15\n",
       "          11       Toto     16\n",
       "          22       Toto     17"
      ]
     },
     "execution_count": 19,
     "metadata": {},
     "output_type": "execute_result"
    }
   ],
   "source": [
    "# La dernière fois on avait voulu afficher un top 5 des eleves comme ceci :\n",
    "def get_top5(df):\n",
    "  return df.sort_values(by=\"notes\")[-5:]\n",
    "\n",
    "# Mais fonction est statique, top5 donne top 5, top 1000 donc 1000 etc\n",
    "eleves_notes.groupby(['eleves']).apply(get_top5)"
   ]
  },
  {
   "cell_type": "markdown",
   "metadata": {
    "id": "_Fa-ilcKt62_"
   },
   "source": [
    "### Rappels"
   ]
  },
  {
   "cell_type": "code",
   "execution_count": 20,
   "metadata": {
    "colab": {
     "base_uri": "https://localhost:8080/",
     "height": 34
    },
    "id": "-5hSVTpEtG2y",
    "outputId": "bdbd29f1-a1aa-4a16-b87c-8b38ce6f40fe"
   },
   "outputs": [
    {
     "data": {
      "text/plain": [
       "5.0"
      ]
     },
     "execution_count": 20,
     "metadata": {},
     "output_type": "execute_result"
    }
   ],
   "source": [
    "# Define a function with ordered param\n",
    "def asurb(a,b):\n",
    "  return a/b\n",
    "\n",
    "asurb(10,2)"
   ]
  },
  {
   "cell_type": "code",
   "execution_count": 21,
   "metadata": {
    "colab": {
     "base_uri": "https://localhost:8080/",
     "height": 34
    },
    "id": "sQudEpWEt4kx",
    "outputId": "75211717-b5c4-407a-d8df-8253e0a47e98"
   },
   "outputs": [
    {
     "data": {
      "text/plain": [
       "0.5"
      ]
     },
     "execution_count": 21,
     "metadata": {},
     "output_type": "execute_result"
    }
   ],
   "source": [
    "asurb(a=5,b=10)"
   ]
  },
  {
   "cell_type": "code",
   "execution_count": 22,
   "metadata": {
    "colab": {
     "base_uri": "https://localhost:8080/",
     "height": 34
    },
    "id": "eHez7suvucz3",
    "outputId": "43b84bcf-438f-4ded-eee9-f18468a6f99e"
   },
   "outputs": [
    {
     "data": {
      "text/plain": [
       "0.1"
      ]
     },
     "execution_count": 22,
     "metadata": {},
     "output_type": "execute_result"
    }
   ],
   "source": [
    "#Faire une fonction et value par def\n",
    "def esurb(e=10, b=5):\n",
    "  return e/b\n",
    "\n",
    "esurb(b=500,e=50)"
   ]
  },
  {
   "cell_type": "code",
   "execution_count": 23,
   "metadata": {
    "colab": {
     "base_uri": "https://localhost:8080/",
     "height": 34
    },
    "id": "b2t64SBYueA-",
    "outputId": "2fc5f92f-74ce-4dfa-e509-c02cba7f51cd"
   },
   "outputs": [
    {
     "data": {
      "text/plain": [
       "0.02"
      ]
     },
     "execution_count": 23,
     "metadata": {},
     "output_type": "execute_result"
    }
   ],
   "source": [
    "esurb(b=500)"
   ]
  },
  {
   "cell_type": "markdown",
   "metadata": {
    "id": "UdO9_cMixHHV"
   },
   "source": [
    "### Revenons à notre top"
   ]
  },
  {
   "cell_type": "code",
   "execution_count": 24,
   "metadata": {
    "id": "-MP03GS7ufM0"
   },
   "outputs": [
    {
     "data": {
      "text/html": [
       "<div>\n",
       "<style scoped>\n",
       "    .dataframe tbody tr th:only-of-type {\n",
       "        vertical-align: middle;\n",
       "    }\n",
       "\n",
       "    .dataframe tbody tr th {\n",
       "        vertical-align: top;\n",
       "    }\n",
       "\n",
       "    .dataframe thead th {\n",
       "        text-align: right;\n",
       "    }\n",
       "</style>\n",
       "<table border=\"1\" class=\"dataframe\">\n",
       "  <thead>\n",
       "    <tr style=\"text-align: right;\">\n",
       "      <th></th>\n",
       "      <th></th>\n",
       "      <th>eleves</th>\n",
       "      <th>notes</th>\n",
       "    </tr>\n",
       "    <tr>\n",
       "      <th>eleves</th>\n",
       "      <th></th>\n",
       "      <th></th>\n",
       "      <th></th>\n",
       "    </tr>\n",
       "  </thead>\n",
       "  <tbody>\n",
       "    <tr>\n",
       "      <th rowspan=\"2\" valign=\"top\">Cacahuete</th>\n",
       "      <th>4</th>\n",
       "      <td>Cacahuete</td>\n",
       "      <td>13</td>\n",
       "    </tr>\n",
       "    <tr>\n",
       "      <th>37</th>\n",
       "      <td>Cacahuete</td>\n",
       "      <td>17</td>\n",
       "    </tr>\n",
       "    <tr>\n",
       "      <th rowspan=\"2\" valign=\"top\">Lodret</th>\n",
       "      <th>42</th>\n",
       "      <td>Lodret</td>\n",
       "      <td>14</td>\n",
       "    </tr>\n",
       "    <tr>\n",
       "      <th>54</th>\n",
       "      <td>Lodret</td>\n",
       "      <td>20</td>\n",
       "    </tr>\n",
       "    <tr>\n",
       "      <th rowspan=\"2\" valign=\"top\">Nekou</th>\n",
       "      <th>18</th>\n",
       "      <td>Nekou</td>\n",
       "      <td>18</td>\n",
       "    </tr>\n",
       "    <tr>\n",
       "      <th>48</th>\n",
       "      <td>Nekou</td>\n",
       "      <td>19</td>\n",
       "    </tr>\n",
       "    <tr>\n",
       "      <th rowspan=\"2\" valign=\"top\">Pouet</th>\n",
       "      <th>43</th>\n",
       "      <td>Pouet</td>\n",
       "      <td>14</td>\n",
       "    </tr>\n",
       "    <tr>\n",
       "      <th>20</th>\n",
       "      <td>Pouet</td>\n",
       "      <td>19</td>\n",
       "    </tr>\n",
       "    <tr>\n",
       "      <th rowspan=\"2\" valign=\"top\">Sergio</th>\n",
       "      <th>38</th>\n",
       "      <td>Sergio</td>\n",
       "      <td>15</td>\n",
       "    </tr>\n",
       "    <tr>\n",
       "      <th>16</th>\n",
       "      <td>Sergio</td>\n",
       "      <td>16</td>\n",
       "    </tr>\n",
       "    <tr>\n",
       "      <th rowspan=\"2\" valign=\"top\">Tata</th>\n",
       "      <th>58</th>\n",
       "      <td>Tata</td>\n",
       "      <td>14</td>\n",
       "    </tr>\n",
       "    <tr>\n",
       "      <th>45</th>\n",
       "      <td>Tata</td>\n",
       "      <td>16</td>\n",
       "    </tr>\n",
       "    <tr>\n",
       "      <th rowspan=\"2\" valign=\"top\">Titi</th>\n",
       "      <th>24</th>\n",
       "      <td>Titi</td>\n",
       "      <td>18</td>\n",
       "    </tr>\n",
       "    <tr>\n",
       "      <th>29</th>\n",
       "      <td>Titi</td>\n",
       "      <td>19</td>\n",
       "    </tr>\n",
       "    <tr>\n",
       "      <th rowspan=\"2\" valign=\"top\">Toto</th>\n",
       "      <th>11</th>\n",
       "      <td>Toto</td>\n",
       "      <td>16</td>\n",
       "    </tr>\n",
       "    <tr>\n",
       "      <th>22</th>\n",
       "      <td>Toto</td>\n",
       "      <td>17</td>\n",
       "    </tr>\n",
       "  </tbody>\n",
       "</table>\n",
       "</div>"
      ],
      "text/plain": [
       "                 eleves  notes\n",
       "eleves                        \n",
       "Cacahuete 4   Cacahuete     13\n",
       "          37  Cacahuete     17\n",
       "Lodret    42     Lodret     14\n",
       "          54     Lodret     20\n",
       "Nekou     18      Nekou     18\n",
       "          48      Nekou     19\n",
       "Pouet     43      Pouet     14\n",
       "          20      Pouet     19\n",
       "Sergio    38     Sergio     15\n",
       "          16     Sergio     16\n",
       "Tata      58       Tata     14\n",
       "          45       Tata     16\n",
       "Titi      24       Titi     18\n",
       "          29       Titi     19\n",
       "Toto      11       Toto     16\n",
       "          22       Toto     17"
      ]
     },
     "execution_count": 24,
     "metadata": {},
     "output_type": "execute_result"
    }
   ],
   "source": [
    "def get_top2(df, **kwags):\n",
    "  return df.sort_values(by='notes')[-kwags['top']:]\n",
    "\n",
    "eleves_notes.groupby([\"eleves\"]).apply(get_top2, top=2)"
   ]
  },
  {
   "cell_type": "code",
   "execution_count": 25,
   "metadata": {
    "id": "WXfLkY8FvGWy"
   },
   "outputs": [
    {
     "data": {
      "text/html": [
       "<div>\n",
       "<style scoped>\n",
       "    .dataframe tbody tr th:only-of-type {\n",
       "        vertical-align: middle;\n",
       "    }\n",
       "\n",
       "    .dataframe tbody tr th {\n",
       "        vertical-align: top;\n",
       "    }\n",
       "\n",
       "    .dataframe thead th {\n",
       "        text-align: right;\n",
       "    }\n",
       "</style>\n",
       "<table border=\"1\" class=\"dataframe\">\n",
       "  <thead>\n",
       "    <tr style=\"text-align: right;\">\n",
       "      <th></th>\n",
       "      <th></th>\n",
       "      <th>eleves</th>\n",
       "      <th>notes</th>\n",
       "    </tr>\n",
       "    <tr>\n",
       "      <th>eleves</th>\n",
       "      <th></th>\n",
       "      <th></th>\n",
       "      <th></th>\n",
       "    </tr>\n",
       "  </thead>\n",
       "  <tbody>\n",
       "    <tr>\n",
       "      <th rowspan=\"4\" valign=\"top\">Cacahuete</th>\n",
       "      <th>52</th>\n",
       "      <td>Cacahuete</td>\n",
       "      <td>6</td>\n",
       "    </tr>\n",
       "    <tr>\n",
       "      <th>12</th>\n",
       "      <td>Cacahuete</td>\n",
       "      <td>8</td>\n",
       "    </tr>\n",
       "    <tr>\n",
       "      <th>4</th>\n",
       "      <td>Cacahuete</td>\n",
       "      <td>13</td>\n",
       "    </tr>\n",
       "    <tr>\n",
       "      <th>37</th>\n",
       "      <td>Cacahuete</td>\n",
       "      <td>17</td>\n",
       "    </tr>\n",
       "    <tr>\n",
       "      <th rowspan=\"4\" valign=\"top\">Lodret</th>\n",
       "      <th>35</th>\n",
       "      <td>Lodret</td>\n",
       "      <td>5</td>\n",
       "    </tr>\n",
       "    <tr>\n",
       "      <th>50</th>\n",
       "      <td>Lodret</td>\n",
       "      <td>11</td>\n",
       "    </tr>\n",
       "    <tr>\n",
       "      <th>42</th>\n",
       "      <td>Lodret</td>\n",
       "      <td>14</td>\n",
       "    </tr>\n",
       "    <tr>\n",
       "      <th>54</th>\n",
       "      <td>Lodret</td>\n",
       "      <td>20</td>\n",
       "    </tr>\n",
       "    <tr>\n",
       "      <th rowspan=\"4\" valign=\"top\">Nekou</th>\n",
       "      <th>3</th>\n",
       "      <td>Nekou</td>\n",
       "      <td>18</td>\n",
       "    </tr>\n",
       "    <tr>\n",
       "      <th>6</th>\n",
       "      <td>Nekou</td>\n",
       "      <td>18</td>\n",
       "    </tr>\n",
       "    <tr>\n",
       "      <th>18</th>\n",
       "      <td>Nekou</td>\n",
       "      <td>18</td>\n",
       "    </tr>\n",
       "    <tr>\n",
       "      <th>48</th>\n",
       "      <td>Nekou</td>\n",
       "      <td>19</td>\n",
       "    </tr>\n",
       "    <tr>\n",
       "      <th rowspan=\"4\" valign=\"top\">Pouet</th>\n",
       "      <th>44</th>\n",
       "      <td>Pouet</td>\n",
       "      <td>2</td>\n",
       "    </tr>\n",
       "    <tr>\n",
       "      <th>15</th>\n",
       "      <td>Pouet</td>\n",
       "      <td>12</td>\n",
       "    </tr>\n",
       "    <tr>\n",
       "      <th>43</th>\n",
       "      <td>Pouet</td>\n",
       "      <td>14</td>\n",
       "    </tr>\n",
       "    <tr>\n",
       "      <th>20</th>\n",
       "      <td>Pouet</td>\n",
       "      <td>19</td>\n",
       "    </tr>\n",
       "    <tr>\n",
       "      <th rowspan=\"4\" valign=\"top\">Sergio</th>\n",
       "      <th>23</th>\n",
       "      <td>Sergio</td>\n",
       "      <td>13</td>\n",
       "    </tr>\n",
       "    <tr>\n",
       "      <th>59</th>\n",
       "      <td>Sergio</td>\n",
       "      <td>13</td>\n",
       "    </tr>\n",
       "    <tr>\n",
       "      <th>38</th>\n",
       "      <td>Sergio</td>\n",
       "      <td>15</td>\n",
       "    </tr>\n",
       "    <tr>\n",
       "      <th>16</th>\n",
       "      <td>Sergio</td>\n",
       "      <td>16</td>\n",
       "    </tr>\n",
       "    <tr>\n",
       "      <th rowspan=\"4\" valign=\"top\">Tata</th>\n",
       "      <th>41</th>\n",
       "      <td>Tata</td>\n",
       "      <td>12</td>\n",
       "    </tr>\n",
       "    <tr>\n",
       "      <th>17</th>\n",
       "      <td>Tata</td>\n",
       "      <td>13</td>\n",
       "    </tr>\n",
       "    <tr>\n",
       "      <th>58</th>\n",
       "      <td>Tata</td>\n",
       "      <td>14</td>\n",
       "    </tr>\n",
       "    <tr>\n",
       "      <th>45</th>\n",
       "      <td>Tata</td>\n",
       "      <td>16</td>\n",
       "    </tr>\n",
       "    <tr>\n",
       "      <th rowspan=\"4\" valign=\"top\">Titi</th>\n",
       "      <th>10</th>\n",
       "      <td>Titi</td>\n",
       "      <td>11</td>\n",
       "    </tr>\n",
       "    <tr>\n",
       "      <th>0</th>\n",
       "      <td>Titi</td>\n",
       "      <td>14</td>\n",
       "    </tr>\n",
       "    <tr>\n",
       "      <th>24</th>\n",
       "      <td>Titi</td>\n",
       "      <td>18</td>\n",
       "    </tr>\n",
       "    <tr>\n",
       "      <th>29</th>\n",
       "      <td>Titi</td>\n",
       "      <td>19</td>\n",
       "    </tr>\n",
       "    <tr>\n",
       "      <th rowspan=\"4\" valign=\"top\">Toto</th>\n",
       "      <th>19</th>\n",
       "      <td>Toto</td>\n",
       "      <td>13</td>\n",
       "    </tr>\n",
       "    <tr>\n",
       "      <th>8</th>\n",
       "      <td>Toto</td>\n",
       "      <td>15</td>\n",
       "    </tr>\n",
       "    <tr>\n",
       "      <th>11</th>\n",
       "      <td>Toto</td>\n",
       "      <td>16</td>\n",
       "    </tr>\n",
       "    <tr>\n",
       "      <th>22</th>\n",
       "      <td>Toto</td>\n",
       "      <td>17</td>\n",
       "    </tr>\n",
       "  </tbody>\n",
       "</table>\n",
       "</div>"
      ],
      "text/plain": [
       "                 eleves  notes\n",
       "eleves                        \n",
       "Cacahuete 52  Cacahuete      6\n",
       "          12  Cacahuete      8\n",
       "          4   Cacahuete     13\n",
       "          37  Cacahuete     17\n",
       "Lodret    35     Lodret      5\n",
       "          50     Lodret     11\n",
       "          42     Lodret     14\n",
       "          54     Lodret     20\n",
       "Nekou     3       Nekou     18\n",
       "          6       Nekou     18\n",
       "          18      Nekou     18\n",
       "          48      Nekou     19\n",
       "Pouet     44      Pouet      2\n",
       "          15      Pouet     12\n",
       "          43      Pouet     14\n",
       "          20      Pouet     19\n",
       "Sergio    23     Sergio     13\n",
       "          59     Sergio     13\n",
       "          38     Sergio     15\n",
       "          16     Sergio     16\n",
       "Tata      41       Tata     12\n",
       "          17       Tata     13\n",
       "          58       Tata     14\n",
       "          45       Tata     16\n",
       "Titi      10       Titi     11\n",
       "          0        Titi     14\n",
       "          24       Titi     18\n",
       "          29       Titi     19\n",
       "Toto      19       Toto     13\n",
       "          8        Toto     15\n",
       "          11       Toto     16\n",
       "          22       Toto     17"
      ]
     },
     "execution_count": 25,
     "metadata": {},
     "output_type": "execute_result"
    }
   ],
   "source": [
    "# kwags pas mandatory, c'est le nom qu'on veut, genre dico ça marche ! \n",
    "# On ajoute sort column name as a param\n",
    "def get_top3(df, **dico):\n",
    "  return df.sort_values(by='notes')[-dico['top']:]\n",
    "\n",
    "eleves_notes.groupby([\"eleves\"]).apply(get_top3, top=4)"
   ]
  },
  {
   "cell_type": "code",
   "execution_count": 26,
   "metadata": {
    "id": "NAuTkaSWvwpg"
   },
   "outputs": [
    {
     "data": {
      "text/html": [
       "<div>\n",
       "<style scoped>\n",
       "    .dataframe tbody tr th:only-of-type {\n",
       "        vertical-align: middle;\n",
       "    }\n",
       "\n",
       "    .dataframe tbody tr th {\n",
       "        vertical-align: top;\n",
       "    }\n",
       "\n",
       "    .dataframe thead th {\n",
       "        text-align: right;\n",
       "    }\n",
       "</style>\n",
       "<table border=\"1\" class=\"dataframe\">\n",
       "  <thead>\n",
       "    <tr style=\"text-align: right;\">\n",
       "      <th></th>\n",
       "      <th></th>\n",
       "      <th>eleves</th>\n",
       "      <th>notes</th>\n",
       "    </tr>\n",
       "    <tr>\n",
       "      <th>eleves</th>\n",
       "      <th></th>\n",
       "      <th></th>\n",
       "      <th></th>\n",
       "    </tr>\n",
       "  </thead>\n",
       "  <tbody>\n",
       "    <tr>\n",
       "      <th rowspan=\"2\" valign=\"top\">Cacahuete</th>\n",
       "      <th>4</th>\n",
       "      <td>Cacahuete</td>\n",
       "      <td>13</td>\n",
       "    </tr>\n",
       "    <tr>\n",
       "      <th>37</th>\n",
       "      <td>Cacahuete</td>\n",
       "      <td>17</td>\n",
       "    </tr>\n",
       "    <tr>\n",
       "      <th rowspan=\"2\" valign=\"top\">Lodret</th>\n",
       "      <th>42</th>\n",
       "      <td>Lodret</td>\n",
       "      <td>14</td>\n",
       "    </tr>\n",
       "    <tr>\n",
       "      <th>54</th>\n",
       "      <td>Lodret</td>\n",
       "      <td>20</td>\n",
       "    </tr>\n",
       "    <tr>\n",
       "      <th rowspan=\"2\" valign=\"top\">Nekou</th>\n",
       "      <th>18</th>\n",
       "      <td>Nekou</td>\n",
       "      <td>18</td>\n",
       "    </tr>\n",
       "    <tr>\n",
       "      <th>48</th>\n",
       "      <td>Nekou</td>\n",
       "      <td>19</td>\n",
       "    </tr>\n",
       "    <tr>\n",
       "      <th rowspan=\"2\" valign=\"top\">Pouet</th>\n",
       "      <th>43</th>\n",
       "      <td>Pouet</td>\n",
       "      <td>14</td>\n",
       "    </tr>\n",
       "    <tr>\n",
       "      <th>20</th>\n",
       "      <td>Pouet</td>\n",
       "      <td>19</td>\n",
       "    </tr>\n",
       "    <tr>\n",
       "      <th rowspan=\"2\" valign=\"top\">Sergio</th>\n",
       "      <th>38</th>\n",
       "      <td>Sergio</td>\n",
       "      <td>15</td>\n",
       "    </tr>\n",
       "    <tr>\n",
       "      <th>16</th>\n",
       "      <td>Sergio</td>\n",
       "      <td>16</td>\n",
       "    </tr>\n",
       "    <tr>\n",
       "      <th rowspan=\"2\" valign=\"top\">Tata</th>\n",
       "      <th>58</th>\n",
       "      <td>Tata</td>\n",
       "      <td>14</td>\n",
       "    </tr>\n",
       "    <tr>\n",
       "      <th>45</th>\n",
       "      <td>Tata</td>\n",
       "      <td>16</td>\n",
       "    </tr>\n",
       "    <tr>\n",
       "      <th rowspan=\"2\" valign=\"top\">Titi</th>\n",
       "      <th>24</th>\n",
       "      <td>Titi</td>\n",
       "      <td>18</td>\n",
       "    </tr>\n",
       "    <tr>\n",
       "      <th>29</th>\n",
       "      <td>Titi</td>\n",
       "      <td>19</td>\n",
       "    </tr>\n",
       "    <tr>\n",
       "      <th rowspan=\"2\" valign=\"top\">Toto</th>\n",
       "      <th>11</th>\n",
       "      <td>Toto</td>\n",
       "      <td>16</td>\n",
       "    </tr>\n",
       "    <tr>\n",
       "      <th>22</th>\n",
       "      <td>Toto</td>\n",
       "      <td>17</td>\n",
       "    </tr>\n",
       "  </tbody>\n",
       "</table>\n",
       "</div>"
      ],
      "text/plain": [
       "                 eleves  notes\n",
       "eleves                        \n",
       "Cacahuete 4   Cacahuete     13\n",
       "          37  Cacahuete     17\n",
       "Lodret    42     Lodret     14\n",
       "          54     Lodret     20\n",
       "Nekou     18      Nekou     18\n",
       "          48      Nekou     19\n",
       "Pouet     43      Pouet     14\n",
       "          20      Pouet     19\n",
       "Sergio    38     Sergio     15\n",
       "          16     Sergio     16\n",
       "Tata      58       Tata     14\n",
       "          45       Tata     16\n",
       "Titi      24       Titi     18\n",
       "          29       Titi     19\n",
       "Toto      11       Toto     16\n",
       "          22       Toto     17"
      ]
     },
     "execution_count": 26,
     "metadata": {},
     "output_type": "execute_result"
    }
   ],
   "source": [
    "#Mais on peut aussi faire tout simplement : \n",
    "def get_top4(df,top,sort):    \n",
    "    return df.sort_values(by=sort)[-top:]\n",
    "\n",
    "eleves_notes.groupby(['eleves']).apply(get_top4,sort=\"notes\",top=2)\n",
    "\n",
    "# OU\n",
    "def get_top5(df,top=10,sort='notes'):    \n",
    "    return df.sort_values(by=sort)[-top:]\n",
    "\n",
    "eleves_notes.groupby(['eleves']).apply(get_top5,top=2)"
   ]
  },
  {
   "cell_type": "markdown",
   "metadata": {
    "id": "KmccVrGgxx-J"
   },
   "source": [
    "Liens utiles : packing / unpacking : https://deusyss.developpez.com/tutoriels/Python/args_kwargs/\n",
    "\n",
    "et\n",
    "\n",
    "keyword parameters : https://treyhunner.com/2018/04/keyword-arguments-in-python/\n"
   ]
  },
  {
   "cell_type": "markdown",
   "metadata": {
    "id": "XsRWeuGgx4zj"
   },
   "source": [
    "# **Choropleth map using geopandas**"
   ]
  },
  {
   "cell_type": "markdown",
   "metadata": {
    "id": "yvSFsieQyMvp"
   },
   "source": [
    "Regarder sur Wikipiedia la def d'une choropleth map"
   ]
  },
  {
   "cell_type": "code",
   "execution_count": null,
   "metadata": {
    "id": "ki7prIUAwYWr"
   },
   "outputs": [],
   "source": []
  },
  {
   "cell_type": "code",
   "execution_count": 27,
   "metadata": {
    "id": "XgC02PEEx_nA"
   },
   "outputs": [],
   "source": [
    "import geopandas as gpd"
   ]
  },
  {
   "cell_type": "code",
   "execution_count": 29,
   "metadata": {
    "colab": {
     "base_uri": "https://localhost:8080/",
     "height": 204
    },
    "id": "mWP1DAM8ypLQ",
    "outputId": "26ce8167-d322-4f3a-b797-8f3d47d854ee"
   },
   "outputs": [
    {
     "data": {
      "text/html": [
       "<div>\n",
       "<style scoped>\n",
       "    .dataframe tbody tr th:only-of-type {\n",
       "        vertical-align: middle;\n",
       "    }\n",
       "\n",
       "    .dataframe tbody tr th {\n",
       "        vertical-align: top;\n",
       "    }\n",
       "\n",
       "    .dataframe thead th {\n",
       "        text-align: right;\n",
       "    }\n",
       "</style>\n",
       "<table border=\"1\" class=\"dataframe\">\n",
       "  <thead>\n",
       "    <tr style=\"text-align: right;\">\n",
       "      <th></th>\n",
       "      <th>code_insee</th>\n",
       "      <th>nom</th>\n",
       "      <th>nuts3</th>\n",
       "      <th>wikipedia</th>\n",
       "      <th>geometry</th>\n",
       "    </tr>\n",
       "  </thead>\n",
       "  <tbody>\n",
       "    <tr>\n",
       "      <th>0</th>\n",
       "      <td>01</td>\n",
       "      <td>Ain</td>\n",
       "      <td>FR711</td>\n",
       "      <td>b'fr:Ain (d\\xe9partement)'</td>\n",
       "      <td>POLYGON ((5.25559 45.78459, 5.23987 45.77758, ...</td>\n",
       "    </tr>\n",
       "    <tr>\n",
       "      <th>1</th>\n",
       "      <td>02</td>\n",
       "      <td>Aisne</td>\n",
       "      <td>FR221</td>\n",
       "      <td>b'fr:Aisne (d\\xe9partement)'</td>\n",
       "      <td>POLYGON ((3.48175 48.86640, 3.48647 48.85768, ...</td>\n",
       "    </tr>\n",
       "    <tr>\n",
       "      <th>2</th>\n",
       "      <td>03</td>\n",
       "      <td>Allier</td>\n",
       "      <td>FR721</td>\n",
       "      <td>b'fr:Allier (d\\xe9partement)'</td>\n",
       "      <td>POLYGON ((2.38613 46.33196, 2.38407 46.33112, ...</td>\n",
       "    </tr>\n",
       "    <tr>\n",
       "      <th>3</th>\n",
       "      <td>04</td>\n",
       "      <td>Alpes-de-Haute-Provence</td>\n",
       "      <td>FR821</td>\n",
       "      <td>fr:Alpes-de-Haute-Provence</td>\n",
       "      <td>POLYGON ((6.66579 43.83120, 6.67673 43.83178, ...</td>\n",
       "    </tr>\n",
       "    <tr>\n",
       "      <th>4</th>\n",
       "      <td>05</td>\n",
       "      <td>Hautes-Alpes</td>\n",
       "      <td>FR822</td>\n",
       "      <td>fr:Hautes-Alpes</td>\n",
       "      <td>POLYGON ((6.24158 44.44686, 6.24411 44.44693, ...</td>\n",
       "    </tr>\n",
       "  </tbody>\n",
       "</table>\n",
       "</div>"
      ],
      "text/plain": [
       "  code_insee                      nom  nuts3                      wikipedia  \\\n",
       "0         01                      Ain  FR711     b'fr:Ain (d\\xe9partement)'   \n",
       "1         02                    Aisne  FR221   b'fr:Aisne (d\\xe9partement)'   \n",
       "2         03                   Allier  FR721  b'fr:Allier (d\\xe9partement)'   \n",
       "3         04  Alpes-de-Haute-Provence  FR821     fr:Alpes-de-Haute-Provence   \n",
       "4         05             Hautes-Alpes  FR822                fr:Hautes-Alpes   \n",
       "\n",
       "                                            geometry  \n",
       "0  POLYGON ((5.25559 45.78459, 5.23987 45.77758, ...  \n",
       "1  POLYGON ((3.48175 48.86640, 3.48647 48.85768, ...  \n",
       "2  POLYGON ((2.38613 46.33196, 2.38407 46.33112, ...  \n",
       "3  POLYGON ((6.66579 43.83120, 6.67673 43.83178, ...  \n",
       "4  POLYGON ((6.24158 44.44686, 6.24411 44.44693, ...  "
      ]
     },
     "execution_count": 29,
     "metadata": {},
     "output_type": "execute_result"
    }
   ],
   "source": [
    "map_df = gpd.read_file(\"departements-20140306-50m.shp\")\n",
    "map_df.head()"
   ]
  },
  {
   "cell_type": "code",
   "execution_count": 30,
   "metadata": {
    "colab": {
     "base_uri": "https://localhost:8080/",
     "height": 278
    },
    "id": "WpN5K192y5PC",
    "outputId": "77d33cba-b10c-4cb9-8f4b-05bccdce7318"
   },
   "outputs": [
    {
     "name": "stderr",
     "output_type": "stream",
     "text": [
      "In /home/axelthevenot/.local/lib/python3.6/site-packages/matplotlib/mpl-data/stylelib/_classic_test.mplstyle: \n",
      "The text.latex.preview rcparam was deprecated in Matplotlib 3.3 and will be removed two minor releases later.\n",
      "In /home/axelthevenot/.local/lib/python3.6/site-packages/matplotlib/mpl-data/stylelib/_classic_test.mplstyle: \n",
      "The mathtext.fallback_to_cm rcparam was deprecated in Matplotlib 3.3 and will be removed two minor releases later.\n",
      "In /home/axelthevenot/.local/lib/python3.6/site-packages/matplotlib/mpl-data/stylelib/_classic_test.mplstyle: Support for setting the 'mathtext.fallback_to_cm' rcParam is deprecated since 3.3 and will be removed two minor releases later; use 'mathtext.fallback : 'cm' instead.\n",
      "In /home/axelthevenot/.local/lib/python3.6/site-packages/matplotlib/mpl-data/stylelib/_classic_test.mplstyle: \n",
      "The validate_bool_maybe_none function was deprecated in Matplotlib 3.3 and will be removed two minor releases later.\n",
      "In /home/axelthevenot/.local/lib/python3.6/site-packages/matplotlib/mpl-data/stylelib/_classic_test.mplstyle: \n",
      "The savefig.jpeg_quality rcparam was deprecated in Matplotlib 3.3 and will be removed two minor releases later.\n",
      "In /home/axelthevenot/.local/lib/python3.6/site-packages/matplotlib/mpl-data/stylelib/_classic_test.mplstyle: \n",
      "The keymap.all_axes rcparam was deprecated in Matplotlib 3.3 and will be removed two minor releases later.\n",
      "In /home/axelthevenot/.local/lib/python3.6/site-packages/matplotlib/mpl-data/stylelib/_classic_test.mplstyle: \n",
      "The animation.avconv_path rcparam was deprecated in Matplotlib 3.3 and will be removed two minor releases later.\n",
      "In /home/axelthevenot/.local/lib/python3.6/site-packages/matplotlib/mpl-data/stylelib/_classic_test.mplstyle: \n",
      "The animation.avconv_args rcparam was deprecated in Matplotlib 3.3 and will be removed two minor releases later.\n"
     ]
    },
    {
     "data": {
      "text/plain": [
       "<AxesSubplot:>"
      ]
     },
     "execution_count": 30,
     "metadata": {},
     "output_type": "execute_result"
    },
    {
     "data": {
      "image/png": "[encoded data removed]",
      "text/plain": [
       "<Figure size 432x288 with 1 Axes>"
      ]
     },
     "metadata": {
      "needs_background": "light"
     },
     "output_type": "display_data"
    }
   ],
   "source": [
    "import matplotlib.pyplot as plt\n",
    "%matplotlib inline\n",
    "map_df.plot()"
   ]
  },
  {
   "cell_type": "code",
   "execution_count": null,
   "metadata": {
    "colab": {
     "base_uri": "https://localhost:8080/",
     "height": 173
    },
    "id": "28k6fHXty5U1",
    "outputId": "70fd425d-f4f4-4fef-f13b-3b95eb9d1d8f"
   },
   "outputs": [],
   "source": []
  },
  {
   "cell_type": "code",
   "execution_count": 31,
   "metadata": {
    "colab": {
     "base_uri": "https://localhost:8080/",
     "height": 278
    },
    "id": "rnC3VkKJ3c1q",
    "outputId": "bec82a68-fc49-43ec-83c2-03a9653a1a87"
   },
   "outputs": [
    {
     "data": {
      "text/plain": [
       "<AxesSubplot:>"
      ]
     },
     "execution_count": 31,
     "metadata": {},
     "output_type": "execute_result"
    },
    {
     "data": {
      "image/png": "[encoded data removed]",
      "text/plain": [
       "<Figure size 432x288 with 1 Axes>"
      ]
     },
     "metadata": {
      "needs_background": "light"
     },
     "output_type": "display_data"
    }
   ],
   "source": [
    "map_df.plot()"
   ]
  },
  {
   "cell_type": "code",
   "execution_count": 32,
   "metadata": {
    "colab": {
     "base_uri": "https://localhost:8080/",
     "height": 289
    },
    "id": "yjIh75Ru3Bfm",
    "outputId": "d1b6241e-89e6-4e36-866c-8f99bc424c56"
   },
   "outputs": [
    {
     "data": {
      "text/html": [
       "<div>\n",
       "<style scoped>\n",
       "    .dataframe tbody tr th:only-of-type {\n",
       "        vertical-align: middle;\n",
       "    }\n",
       "\n",
       "    .dataframe tbody tr th {\n",
       "        vertical-align: top;\n",
       "    }\n",
       "\n",
       "    .dataframe thead th {\n",
       "        text-align: right;\n",
       "    }\n",
       "</style>\n",
       "<table border=\"1\" class=\"dataframe\">\n",
       "  <thead>\n",
       "    <tr style=\"text-align: right;\">\n",
       "      <th></th>\n",
       "      <th>code_insee</th>\n",
       "      <th>nom</th>\n",
       "      <th>nuts3</th>\n",
       "      <th>wikipedia</th>\n",
       "      <th>geometry</th>\n",
       "    </tr>\n",
       "  </thead>\n",
       "  <tbody>\n",
       "    <tr>\n",
       "      <th>96</th>\n",
       "      <td>971</td>\n",
       "      <td>Guadeloupe</td>\n",
       "      <td>FR910</td>\n",
       "      <td>fr:Guadeloupe</td>\n",
       "      <td>MULTIPOLYGON (((-61.61403 15.83955, -61.61399 ...</td>\n",
       "    </tr>\n",
       "    <tr>\n",
       "      <th>97</th>\n",
       "      <td>972</td>\n",
       "      <td>Martinique</td>\n",
       "      <td>FR920</td>\n",
       "      <td>fr:Martinique</td>\n",
       "      <td>MULTIPOLYGON (((-60.86880 14.39091, -60.86747 ...</td>\n",
       "    </tr>\n",
       "    <tr>\n",
       "      <th>98</th>\n",
       "      <td>973</td>\n",
       "      <td>Guyane</td>\n",
       "      <td>FR930</td>\n",
       "      <td>fr:Guyane</td>\n",
       "      <td>MULTIPOLYGON (((-52.58463 5.28309, -52.58316 5...</td>\n",
       "    </tr>\n",
       "    <tr>\n",
       "      <th>99</th>\n",
       "      <td>974</td>\n",
       "      <td>b'La R\\xe9union'</td>\n",
       "      <td>FR940</td>\n",
       "      <td>b'fr:La R\\xe9union'</td>\n",
       "      <td>MULTIPOLYGON (((55.77886 -21.36291, 55.77889 -...</td>\n",
       "    </tr>\n",
       "    <tr>\n",
       "      <th>100</th>\n",
       "      <td>976</td>\n",
       "      <td>Mayotte</td>\n",
       "      <td>None</td>\n",
       "      <td>fr:Mayotte</td>\n",
       "      <td>MULTIPOLYGON (((45.13667 -13.00398, 45.13859 -...</td>\n",
       "    </tr>\n",
       "  </tbody>\n",
       "</table>\n",
       "</div>"
      ],
      "text/plain": [
       "    code_insee               nom  nuts3            wikipedia  \\\n",
       "96         971        Guadeloupe  FR910        fr:Guadeloupe   \n",
       "97         972        Martinique  FR920        fr:Martinique   \n",
       "98         973            Guyane  FR930            fr:Guyane   \n",
       "99         974  b'La R\\xe9union'  FR940  b'fr:La R\\xe9union'   \n",
       "100        976           Mayotte   None           fr:Mayotte   \n",
       "\n",
       "                                              geometry  \n",
       "96   MULTIPOLYGON (((-61.61403 15.83955, -61.61399 ...  \n",
       "97   MULTIPOLYGON (((-60.86880 14.39091, -60.86747 ...  \n",
       "98   MULTIPOLYGON (((-52.58463 5.28309, -52.58316 5...  \n",
       "99   MULTIPOLYGON (((55.77886 -21.36291, 55.77889 -...  \n",
       "100  MULTIPOLYGON (((45.13667 -13.00398, 45.13859 -...  "
      ]
     },
     "execution_count": 32,
     "metadata": {},
     "output_type": "execute_result"
    }
   ],
   "source": [
    "map_df[map_df.code_insee.str.contains(\"\\d\\d\\d\")== True]\n",
    "# == True supprimable, useless"
   ]
  },
  {
   "cell_type": "code",
   "execution_count": 33,
   "metadata": {
    "id": "iYpWinnY3RXD"
   },
   "outputs": [],
   "source": [
    "map_df =map_df[map_df.code_insee.str.contains(\"\\d\\d\\d\")== False]"
   ]
  },
  {
   "cell_type": "code",
   "execution_count": 34,
   "metadata": {
    "colab": {
     "base_uri": "https://localhost:8080/",
     "height": 282
    },
    "id": "swD-9xxz0ylE",
    "outputId": "6aadd85b-90a9-4d92-eaad-77f1be1d4646"
   },
   "outputs": [
    {
     "data": {
      "text/plain": [
       "<AxesSubplot:>"
      ]
     },
     "execution_count": 34,
     "metadata": {},
     "output_type": "execute_result"
    },
    {
     "data": {
      "image/png": "[encoded data removed]",
      "text/plain": [
       "<Figure size 432x288 with 1 Axes>"
      ]
     },
     "metadata": {
      "needs_background": "light"
     },
     "output_type": "display_data"
    }
   ],
   "source": [
    "#On a enlever les DOM TOM et maintenant on voit mieux ! \n",
    "map_df.plot()"
   ]
  },
  {
   "cell_type": "markdown",
   "metadata": {
    "id": "-xp-P7MD3tL5"
   },
   "source": [
    "YOU MUST KNOW REGEXPS : \n",
    "\n",
    "REGEXP SYNTAX https://www.w3schools.com/python/python_regex.asp\n"
   ]
  },
  {
   "cell_type": "code",
   "execution_count": 35,
   "metadata": {
    "colab": {
     "base_uri": "https://localhost:8080/",
     "height": 589
    },
    "id": "5mqZq1eH3fVi",
    "outputId": "e7aba2c4-e78d-4b4a-ecba-cc5aac81ab6f"
   },
   "outputs": [
    {
     "data": {
      "text/html": [
       "<div>\n",
       "<style scoped>\n",
       "    .dataframe tbody tr th:only-of-type {\n",
       "        vertical-align: middle;\n",
       "    }\n",
       "\n",
       "    .dataframe tbody tr th {\n",
       "        vertical-align: top;\n",
       "    }\n",
       "\n",
       "    .dataframe thead th {\n",
       "        text-align: right;\n",
       "    }\n",
       "</style>\n",
       "<table border=\"1\" class=\"dataframe\">\n",
       "  <thead>\n",
       "    <tr style=\"text-align: right;\">\n",
       "      <th></th>\n",
       "      <th>code_insee</th>\n",
       "      <th>nom</th>\n",
       "      <th>nuts3</th>\n",
       "      <th>wikipedia</th>\n",
       "      <th>geometry</th>\n",
       "    </tr>\n",
       "  </thead>\n",
       "  <tbody>\n",
       "    <tr>\n",
       "      <th>0</th>\n",
       "      <td>01</td>\n",
       "      <td>Ain</td>\n",
       "      <td>FR711</td>\n",
       "      <td>b'fr:Ain (d\\xe9partement)'</td>\n",
       "      <td>POLYGON ((5.25559 45.78459, 5.23987 45.77758, ...</td>\n",
       "    </tr>\n",
       "    <tr>\n",
       "      <th>1</th>\n",
       "      <td>02</td>\n",
       "      <td>Aisne</td>\n",
       "      <td>FR221</td>\n",
       "      <td>b'fr:Aisne (d\\xe9partement)'</td>\n",
       "      <td>POLYGON ((3.48175 48.86640, 3.48647 48.85768, ...</td>\n",
       "    </tr>\n",
       "    <tr>\n",
       "      <th>2</th>\n",
       "      <td>03</td>\n",
       "      <td>Allier</td>\n",
       "      <td>FR721</td>\n",
       "      <td>b'fr:Allier (d\\xe9partement)'</td>\n",
       "      <td>POLYGON ((2.38613 46.33196, 2.38407 46.33112, ...</td>\n",
       "    </tr>\n",
       "    <tr>\n",
       "      <th>3</th>\n",
       "      <td>04</td>\n",
       "      <td>Alpes-de-Haute-Provence</td>\n",
       "      <td>FR821</td>\n",
       "      <td>fr:Alpes-de-Haute-Provence</td>\n",
       "      <td>POLYGON ((6.66579 43.83120, 6.67673 43.83178, ...</td>\n",
       "    </tr>\n",
       "    <tr>\n",
       "      <th>4</th>\n",
       "      <td>05</td>\n",
       "      <td>Hautes-Alpes</td>\n",
       "      <td>FR822</td>\n",
       "      <td>fr:Hautes-Alpes</td>\n",
       "      <td>POLYGON ((6.24158 44.44686, 6.24411 44.44693, ...</td>\n",
       "    </tr>\n",
       "    <tr>\n",
       "      <th>...</th>\n",
       "      <td>...</td>\n",
       "      <td>...</td>\n",
       "      <td>...</td>\n",
       "      <td>...</td>\n",
       "      <td>...</td>\n",
       "    </tr>\n",
       "    <tr>\n",
       "      <th>91</th>\n",
       "      <td>91</td>\n",
       "      <td>Essonne</td>\n",
       "      <td>FR104</td>\n",
       "      <td>b'fr:Essonne (d\\xe9partement)'</td>\n",
       "      <td>POLYGON ((2.39233 48.33593, 2.39427 48.33263, ...</td>\n",
       "    </tr>\n",
       "    <tr>\n",
       "      <th>92</th>\n",
       "      <td>92</td>\n",
       "      <td>Hauts-de-Seine</td>\n",
       "      <td>FR105</td>\n",
       "      <td>fr:Hauts-de-Seine</td>\n",
       "      <td>POLYGON ((2.31993 48.77075, 2.31588 48.76670, ...</td>\n",
       "    </tr>\n",
       "    <tr>\n",
       "      <th>93</th>\n",
       "      <td>93</td>\n",
       "      <td>Seine-Saint-Denis</td>\n",
       "      <td>FR106</td>\n",
       "      <td>fr:Seine-Saint-Denis</td>\n",
       "      <td>POLYGON ((2.41899 48.84939, 2.41636 48.84924, ...</td>\n",
       "    </tr>\n",
       "    <tr>\n",
       "      <th>94</th>\n",
       "      <td>94</td>\n",
       "      <td>Val-de-Marne</td>\n",
       "      <td>FR107</td>\n",
       "      <td>fr:Val-de-Marne</td>\n",
       "      <td>POLYGON ((2.41450 48.71780, 2.41320 48.71868, ...</td>\n",
       "    </tr>\n",
       "    <tr>\n",
       "      <th>95</th>\n",
       "      <td>95</td>\n",
       "      <td>Val-d'Oise</td>\n",
       "      <td>FR108</td>\n",
       "      <td>fr:Val-d'Oise</td>\n",
       "      <td>POLYGON ((1.79674 49.07196, 1.79991 49.06425, ...</td>\n",
       "    </tr>\n",
       "  </tbody>\n",
       "</table>\n",
       "<p>96 rows × 5 columns</p>\n",
       "</div>"
      ],
      "text/plain": [
       "   code_insee                      nom  nuts3                       wikipedia  \\\n",
       "0          01                      Ain  FR711      b'fr:Ain (d\\xe9partement)'   \n",
       "1          02                    Aisne  FR221    b'fr:Aisne (d\\xe9partement)'   \n",
       "2          03                   Allier  FR721   b'fr:Allier (d\\xe9partement)'   \n",
       "3          04  Alpes-de-Haute-Provence  FR821      fr:Alpes-de-Haute-Provence   \n",
       "4          05             Hautes-Alpes  FR822                 fr:Hautes-Alpes   \n",
       "..        ...                      ...    ...                             ...   \n",
       "91         91                  Essonne  FR104  b'fr:Essonne (d\\xe9partement)'   \n",
       "92         92           Hauts-de-Seine  FR105               fr:Hauts-de-Seine   \n",
       "93         93        Seine-Saint-Denis  FR106            fr:Seine-Saint-Denis   \n",
       "94         94             Val-de-Marne  FR107                 fr:Val-de-Marne   \n",
       "95         95               Val-d'Oise  FR108                   fr:Val-d'Oise   \n",
       "\n",
       "                                             geometry  \n",
       "0   POLYGON ((5.25559 45.78459, 5.23987 45.77758, ...  \n",
       "1   POLYGON ((3.48175 48.86640, 3.48647 48.85768, ...  \n",
       "2   POLYGON ((2.38613 46.33196, 2.38407 46.33112, ...  \n",
       "3   POLYGON ((6.66579 43.83120, 6.67673 43.83178, ...  \n",
       "4   POLYGON ((6.24158 44.44686, 6.24411 44.44693, ...  \n",
       "..                                                ...  \n",
       "91  POLYGON ((2.39233 48.33593, 2.39427 48.33263, ...  \n",
       "92  POLYGON ((2.31993 48.77075, 2.31588 48.76670, ...  \n",
       "93  POLYGON ((2.41899 48.84939, 2.41636 48.84924, ...  \n",
       "94  POLYGON ((2.41450 48.71780, 2.41320 48.71868, ...  \n",
       "95  POLYGON ((1.79674 49.07196, 1.79991 49.06425, ...  \n",
       "\n",
       "[96 rows x 5 columns]"
      ]
     },
     "execution_count": 35,
     "metadata": {},
     "output_type": "execute_result"
    }
   ],
   "source": [
    "map_df"
   ]
  },
  {
   "cell_type": "code",
   "execution_count": 43,
   "metadata": {
    "colab": {
     "base_uri": "https://localhost:8080/",
     "height": 419
    },
    "id": "Kd9ZNmvR3o4v",
    "outputId": "0eb3ca66-c525-4405-d71b-f149ed196819"
   },
   "outputs": [
    {
     "data": {
      "text/html": [
       "<div>\n",
       "<style scoped>\n",
       "    .dataframe tbody tr th:only-of-type {\n",
       "        vertical-align: middle;\n",
       "    }\n",
       "\n",
       "    .dataframe tbody tr th {\n",
       "        vertical-align: top;\n",
       "    }\n",
       "\n",
       "    .dataframe thead th {\n",
       "        text-align: right;\n",
       "    }\n",
       "</style>\n",
       "<table border=\"1\" class=\"dataframe\">\n",
       "  <thead>\n",
       "    <tr style=\"text-align: right;\">\n",
       "      <th></th>\n",
       "      <th>sexe</th>\n",
       "      <th>preusuel</th>\n",
       "      <th>annais</th>\n",
       "      <th>dpt</th>\n",
       "      <th>nombre</th>\n",
       "    </tr>\n",
       "  </thead>\n",
       "  <tbody>\n",
       "    <tr>\n",
       "      <th>0</th>\n",
       "      <td>1</td>\n",
       "      <td>A</td>\n",
       "      <td>XXXX</td>\n",
       "      <td>XX</td>\n",
       "      <td>27</td>\n",
       "    </tr>\n",
       "    <tr>\n",
       "      <th>1</th>\n",
       "      <td>1</td>\n",
       "      <td>AADAM</td>\n",
       "      <td>XXXX</td>\n",
       "      <td>XX</td>\n",
       "      <td>27</td>\n",
       "    </tr>\n",
       "    <tr>\n",
       "      <th>2</th>\n",
       "      <td>1</td>\n",
       "      <td>AADEL</td>\n",
       "      <td>XXXX</td>\n",
       "      <td>XX</td>\n",
       "      <td>55</td>\n",
       "    </tr>\n",
       "    <tr>\n",
       "      <th>3</th>\n",
       "      <td>1</td>\n",
       "      <td>AADIL</td>\n",
       "      <td>1983</td>\n",
       "      <td>84</td>\n",
       "      <td>3</td>\n",
       "    </tr>\n",
       "    <tr>\n",
       "      <th>4</th>\n",
       "      <td>1</td>\n",
       "      <td>AADIL</td>\n",
       "      <td>1992</td>\n",
       "      <td>92</td>\n",
       "      <td>3</td>\n",
       "    </tr>\n",
       "    <tr>\n",
       "      <th>...</th>\n",
       "      <td>...</td>\n",
       "      <td>...</td>\n",
       "      <td>...</td>\n",
       "      <td>...</td>\n",
       "      <td>...</td>\n",
       "    </tr>\n",
       "    <tr>\n",
       "      <th>3624989</th>\n",
       "      <td>2</td>\n",
       "      <td>ÉYA</td>\n",
       "      <td>2014</td>\n",
       "      <td>69</td>\n",
       "      <td>3</td>\n",
       "    </tr>\n",
       "    <tr>\n",
       "      <th>3624990</th>\n",
       "      <td>2</td>\n",
       "      <td>ÉYA</td>\n",
       "      <td>XXXX</td>\n",
       "      <td>XX</td>\n",
       "      <td>23</td>\n",
       "    </tr>\n",
       "    <tr>\n",
       "      <th>3624991</th>\n",
       "      <td>2</td>\n",
       "      <td>ÏNAYA</td>\n",
       "      <td>XXXX</td>\n",
       "      <td>XX</td>\n",
       "      <td>21</td>\n",
       "    </tr>\n",
       "    <tr>\n",
       "      <th>3624992</th>\n",
       "      <td>2</td>\n",
       "      <td>ÖZGE</td>\n",
       "      <td>XXXX</td>\n",
       "      <td>XX</td>\n",
       "      <td>30</td>\n",
       "    </tr>\n",
       "    <tr>\n",
       "      <th>3624993</th>\n",
       "      <td>2</td>\n",
       "      <td>ÖZLEM</td>\n",
       "      <td>XXXX</td>\n",
       "      <td>XX</td>\n",
       "      <td>95</td>\n",
       "    </tr>\n",
       "  </tbody>\n",
       "</table>\n",
       "<p>3624994 rows × 5 columns</p>\n",
       "</div>"
      ],
      "text/plain": [
       "         sexe preusuel annais dpt  nombre\n",
       "0           1        A   XXXX  XX      27\n",
       "1           1    AADAM   XXXX  XX      27\n",
       "2           1    AADEL   XXXX  XX      55\n",
       "3           1    AADIL   1983  84       3\n",
       "4           1    AADIL   1992  92       3\n",
       "...       ...      ...    ...  ..     ...\n",
       "3624989     2      ÉYA   2014  69       3\n",
       "3624990     2      ÉYA   XXXX  XX      23\n",
       "3624991     2    ÏNAYA   XXXX  XX      21\n",
       "3624992     2     ÖZGE   XXXX  XX      30\n",
       "3624993     2    ÖZLEM   XXXX  XX      95\n",
       "\n",
       "[3624994 rows x 5 columns]"
      ]
     },
     "execution_count": 43,
     "metadata": {},
     "output_type": "execute_result"
    }
   ],
   "source": [
    "# Je veux le merger avec Dataframe valeur a afficher sur carte\n",
    "prenoms = pd.read_csv(\"dpt2018.csv\", sep=\";\")\n",
    "prenoms"
   ]
  },
  {
   "cell_type": "code",
   "execution_count": 44,
   "metadata": {
    "colab": {
     "base_uri": "https://localhost:8080/",
     "height": 238
    },
    "id": "QykOd3HU4E0S",
    "outputId": "cb9f94ca-a9e7-43b7-bf93-f5022e8a574f"
   },
   "outputs": [
    {
     "data": {
      "text/plain": [
       "dpt\n",
       "01      437904\n",
       "02      842940\n",
       "03      498369\n",
       "04      105739\n",
       "05      126071\n",
       "        ...   \n",
       "971     640654\n",
       "972     637827\n",
       "973     169185\n",
       "974    1192007\n",
       "XX     8261688\n",
       "Name: nombre, Length: 100, dtype: int64"
      ]
     },
     "execution_count": 44,
     "metadata": {},
     "output_type": "execute_result"
    }
   ],
   "source": [
    "dpt_sum=prenoms.groupby(\"dpt\").nombre.sum()\n",
    "dpt_sum"
   ]
  },
  {
   "cell_type": "code",
   "execution_count": 45,
   "metadata": {
    "colab": {
     "base_uri": "https://localhost:8080/",
     "height": 34
    },
    "id": "2V9kNQy95nix",
    "outputId": "e36a0645-a0ba-4114-de0d-347568100f32"
   },
   "outputs": [
    {
     "data": {
      "text/plain": [
       "pandas.core.series.Series"
      ]
     },
     "execution_count": 45,
     "metadata": {},
     "output_type": "execute_result"
    }
   ],
   "source": [
    "type(dpt_sum)"
   ]
  },
  {
   "cell_type": "code",
   "execution_count": 46,
   "metadata": {
    "colab": {
     "base_uri": "https://localhost:8080/",
     "height": 419
    },
    "id": "T4Y-Dfj_5tCF",
    "outputId": "dc163963-c0b3-4116-d0ce-1498f337c2d5"
   },
   "outputs": [
    {
     "data": {
      "text/html": [
       "<div>\n",
       "<style scoped>\n",
       "    .dataframe tbody tr th:only-of-type {\n",
       "        vertical-align: middle;\n",
       "    }\n",
       "\n",
       "    .dataframe tbody tr th {\n",
       "        vertical-align: top;\n",
       "    }\n",
       "\n",
       "    .dataframe thead th {\n",
       "        text-align: right;\n",
       "    }\n",
       "</style>\n",
       "<table border=\"1\" class=\"dataframe\">\n",
       "  <thead>\n",
       "    <tr style=\"text-align: right;\">\n",
       "      <th></th>\n",
       "      <th>dpt</th>\n",
       "      <th>nombre</th>\n",
       "    </tr>\n",
       "  </thead>\n",
       "  <tbody>\n",
       "    <tr>\n",
       "      <th>0</th>\n",
       "      <td>01</td>\n",
       "      <td>437904</td>\n",
       "    </tr>\n",
       "    <tr>\n",
       "      <th>1</th>\n",
       "      <td>02</td>\n",
       "      <td>842940</td>\n",
       "    </tr>\n",
       "    <tr>\n",
       "      <th>2</th>\n",
       "      <td>03</td>\n",
       "      <td>498369</td>\n",
       "    </tr>\n",
       "    <tr>\n",
       "      <th>3</th>\n",
       "      <td>04</td>\n",
       "      <td>105739</td>\n",
       "    </tr>\n",
       "    <tr>\n",
       "      <th>4</th>\n",
       "      <td>05</td>\n",
       "      <td>126071</td>\n",
       "    </tr>\n",
       "    <tr>\n",
       "      <th>...</th>\n",
       "      <td>...</td>\n",
       "      <td>...</td>\n",
       "    </tr>\n",
       "    <tr>\n",
       "      <th>95</th>\n",
       "      <td>971</td>\n",
       "      <td>640654</td>\n",
       "    </tr>\n",
       "    <tr>\n",
       "      <th>96</th>\n",
       "      <td>972</td>\n",
       "      <td>637827</td>\n",
       "    </tr>\n",
       "    <tr>\n",
       "      <th>97</th>\n",
       "      <td>973</td>\n",
       "      <td>169185</td>\n",
       "    </tr>\n",
       "    <tr>\n",
       "      <th>98</th>\n",
       "      <td>974</td>\n",
       "      <td>1192007</td>\n",
       "    </tr>\n",
       "    <tr>\n",
       "      <th>99</th>\n",
       "      <td>XX</td>\n",
       "      <td>8261688</td>\n",
       "    </tr>\n",
       "  </tbody>\n",
       "</table>\n",
       "<p>100 rows × 2 columns</p>\n",
       "</div>"
      ],
      "text/plain": [
       "    dpt   nombre\n",
       "0    01   437904\n",
       "1    02   842940\n",
       "2    03   498369\n",
       "3    04   105739\n",
       "4    05   126071\n",
       "..  ...      ...\n",
       "95  971   640654\n",
       "96  972   637827\n",
       "97  973   169185\n",
       "98  974  1192007\n",
       "99   XX  8261688\n",
       "\n",
       "[100 rows x 2 columns]"
      ]
     },
     "execution_count": 46,
     "metadata": {},
     "output_type": "execute_result"
    }
   ],
   "source": [
    "# Pandas : 2 type variable, les tab et les series, les tab sont fait de colonnes, \n",
    "# et une colonne = series\n",
    "\n",
    "dpt_sum = dpt_sum.reset_index()\n",
    "dpt_sum"
   ]
  },
  {
   "cell_type": "code",
   "execution_count": 47,
   "metadata": {
    "colab": {
     "base_uri": "https://localhost:8080/",
     "height": 34
    },
    "id": "ztLRg2fs6fw9",
    "outputId": "f75a2e0f-fdc2-4f61-9b5a-13976bbe6ed4"
   },
   "outputs": [
    {
     "data": {
      "text/plain": [
       "pandas.core.frame.DataFrame"
      ]
     },
     "execution_count": 47,
     "metadata": {},
     "output_type": "execute_result"
    }
   ],
   "source": [
    "type(dpt_sum)"
   ]
  },
  {
   "cell_type": "code",
   "execution_count": 48,
   "metadata": {
    "colab": {
     "base_uri": "https://localhost:8080/",
     "height": 419
    },
    "id": "M9ybF8u269Bo",
    "outputId": "eb714db8-c342-47e0-8a72-c5bc7e858b61"
   },
   "outputs": [
    {
     "data": {
      "text/html": [
       "<div>\n",
       "<style scoped>\n",
       "    .dataframe tbody tr th:only-of-type {\n",
       "        vertical-align: middle;\n",
       "    }\n",
       "\n",
       "    .dataframe tbody tr th {\n",
       "        vertical-align: top;\n",
       "    }\n",
       "\n",
       "    .dataframe thead th {\n",
       "        text-align: right;\n",
       "    }\n",
       "</style>\n",
       "<table border=\"1\" class=\"dataframe\">\n",
       "  <thead>\n",
       "    <tr style=\"text-align: right;\">\n",
       "      <th></th>\n",
       "      <th>dpt</th>\n",
       "      <th>nombre</th>\n",
       "      <th>code_insee</th>\n",
       "    </tr>\n",
       "  </thead>\n",
       "  <tbody>\n",
       "    <tr>\n",
       "      <th>0</th>\n",
       "      <td>01</td>\n",
       "      <td>437904</td>\n",
       "      <td>01</td>\n",
       "    </tr>\n",
       "    <tr>\n",
       "      <th>1</th>\n",
       "      <td>02</td>\n",
       "      <td>842940</td>\n",
       "      <td>02</td>\n",
       "    </tr>\n",
       "    <tr>\n",
       "      <th>2</th>\n",
       "      <td>03</td>\n",
       "      <td>498369</td>\n",
       "      <td>03</td>\n",
       "    </tr>\n",
       "    <tr>\n",
       "      <th>3</th>\n",
       "      <td>04</td>\n",
       "      <td>105739</td>\n",
       "      <td>04</td>\n",
       "    </tr>\n",
       "    <tr>\n",
       "      <th>4</th>\n",
       "      <td>05</td>\n",
       "      <td>126071</td>\n",
       "      <td>05</td>\n",
       "    </tr>\n",
       "    <tr>\n",
       "      <th>...</th>\n",
       "      <td>...</td>\n",
       "      <td>...</td>\n",
       "      <td>...</td>\n",
       "    </tr>\n",
       "    <tr>\n",
       "      <th>95</th>\n",
       "      <td>971</td>\n",
       "      <td>640654</td>\n",
       "      <td>971</td>\n",
       "    </tr>\n",
       "    <tr>\n",
       "      <th>96</th>\n",
       "      <td>972</td>\n",
       "      <td>637827</td>\n",
       "      <td>972</td>\n",
       "    </tr>\n",
       "    <tr>\n",
       "      <th>97</th>\n",
       "      <td>973</td>\n",
       "      <td>169185</td>\n",
       "      <td>973</td>\n",
       "    </tr>\n",
       "    <tr>\n",
       "      <th>98</th>\n",
       "      <td>974</td>\n",
       "      <td>1192007</td>\n",
       "      <td>974</td>\n",
       "    </tr>\n",
       "    <tr>\n",
       "      <th>99</th>\n",
       "      <td>XX</td>\n",
       "      <td>8261688</td>\n",
       "      <td>XX</td>\n",
       "    </tr>\n",
       "  </tbody>\n",
       "</table>\n",
       "<p>100 rows × 3 columns</p>\n",
       "</div>"
      ],
      "text/plain": [
       "    dpt   nombre code_insee\n",
       "0    01   437904         01\n",
       "1    02   842940         02\n",
       "2    03   498369         03\n",
       "3    04   105739         04\n",
       "4    05   126071         05\n",
       "..  ...      ...        ...\n",
       "95  971   640654        971\n",
       "96  972   637827        972\n",
       "97  973   169185        973\n",
       "98  974  1192007        974\n",
       "99   XX  8261688         XX\n",
       "\n",
       "[100 rows x 3 columns]"
      ]
     },
     "execution_count": 48,
     "metadata": {},
     "output_type": "execute_result"
    }
   ],
   "source": [
    "#Nouvelle colonne ! avec le meme nom quand dans l'autre truc\n",
    "dpt_sum[\"code_insee\"]=dpt_sum.dpt\n",
    "dpt_sum"
   ]
  },
  {
   "cell_type": "code",
   "execution_count": 49,
   "metadata": {
    "colab": {
     "base_uri": "https://localhost:8080/",
     "height": 289
    },
    "id": "ThhrM82g7Afz",
    "outputId": "96a319ab-7504-41d9-e73e-96a8045722c7"
   },
   "outputs": [
    {
     "data": {
      "text/html": [
       "<div>\n",
       "<style scoped>\n",
       "    .dataframe tbody tr th:only-of-type {\n",
       "        vertical-align: middle;\n",
       "    }\n",
       "\n",
       "    .dataframe tbody tr th {\n",
       "        vertical-align: top;\n",
       "    }\n",
       "\n",
       "    .dataframe thead th {\n",
       "        text-align: right;\n",
       "    }\n",
       "</style>\n",
       "<table border=\"1\" class=\"dataframe\">\n",
       "  <thead>\n",
       "    <tr style=\"text-align: right;\">\n",
       "      <th></th>\n",
       "      <th>code_insee</th>\n",
       "      <th>nom</th>\n",
       "      <th>nuts3</th>\n",
       "      <th>wikipedia</th>\n",
       "      <th>geometry</th>\n",
       "      <th>dpt</th>\n",
       "      <th>nombre</th>\n",
       "    </tr>\n",
       "  </thead>\n",
       "  <tbody>\n",
       "    <tr>\n",
       "      <th>0</th>\n",
       "      <td>01</td>\n",
       "      <td>Ain</td>\n",
       "      <td>FR711</td>\n",
       "      <td>b'fr:Ain (d\\xe9partement)'</td>\n",
       "      <td>POLYGON ((5.25559 45.78459, 5.23987 45.77758, ...</td>\n",
       "      <td>01</td>\n",
       "      <td>437904</td>\n",
       "    </tr>\n",
       "    <tr>\n",
       "      <th>1</th>\n",
       "      <td>02</td>\n",
       "      <td>Aisne</td>\n",
       "      <td>FR221</td>\n",
       "      <td>b'fr:Aisne (d\\xe9partement)'</td>\n",
       "      <td>POLYGON ((3.48175 48.86640, 3.48647 48.85768, ...</td>\n",
       "      <td>02</td>\n",
       "      <td>842940</td>\n",
       "    </tr>\n",
       "    <tr>\n",
       "      <th>2</th>\n",
       "      <td>03</td>\n",
       "      <td>Allier</td>\n",
       "      <td>FR721</td>\n",
       "      <td>b'fr:Allier (d\\xe9partement)'</td>\n",
       "      <td>POLYGON ((2.38613 46.33196, 2.38407 46.33112, ...</td>\n",
       "      <td>03</td>\n",
       "      <td>498369</td>\n",
       "    </tr>\n",
       "    <tr>\n",
       "      <th>3</th>\n",
       "      <td>04</td>\n",
       "      <td>Alpes-de-Haute-Provence</td>\n",
       "      <td>FR821</td>\n",
       "      <td>fr:Alpes-de-Haute-Provence</td>\n",
       "      <td>POLYGON ((6.66579 43.83120, 6.67673 43.83178, ...</td>\n",
       "      <td>04</td>\n",
       "      <td>105739</td>\n",
       "    </tr>\n",
       "    <tr>\n",
       "      <th>4</th>\n",
       "      <td>05</td>\n",
       "      <td>Hautes-Alpes</td>\n",
       "      <td>FR822</td>\n",
       "      <td>fr:Hautes-Alpes</td>\n",
       "      <td>POLYGON ((6.24158 44.44686, 6.24411 44.44693, ...</td>\n",
       "      <td>05</td>\n",
       "      <td>126071</td>\n",
       "    </tr>\n",
       "  </tbody>\n",
       "</table>\n",
       "</div>"
      ],
      "text/plain": [
       "  code_insee                      nom  nuts3                      wikipedia  \\\n",
       "0         01                      Ain  FR711     b'fr:Ain (d\\xe9partement)'   \n",
       "1         02                    Aisne  FR221   b'fr:Aisne (d\\xe9partement)'   \n",
       "2         03                   Allier  FR721  b'fr:Allier (d\\xe9partement)'   \n",
       "3         04  Alpes-de-Haute-Provence  FR821     fr:Alpes-de-Haute-Provence   \n",
       "4         05             Hautes-Alpes  FR822                fr:Hautes-Alpes   \n",
       "\n",
       "                                            geometry dpt  nombre  \n",
       "0  POLYGON ((5.25559 45.78459, 5.23987 45.77758, ...  01  437904  \n",
       "1  POLYGON ((3.48175 48.86640, 3.48647 48.85768, ...  02  842940  \n",
       "2  POLYGON ((2.38613 46.33196, 2.38407 46.33112, ...  03  498369  \n",
       "3  POLYGON ((6.66579 43.83120, 6.67673 43.83178, ...  04  105739  \n",
       "4  POLYGON ((6.24158 44.44686, 6.24411 44.44693, ...  05  126071  "
      ]
     },
     "execution_count": 49,
     "metadata": {},
     "output_type": "execute_result"
    }
   ],
   "source": [
    "# Merge\n",
    "merged = map_df.merge(dpt_sum,on=\"code_insee\")\n",
    "merged.head()\n"
   ]
  },
  {
   "cell_type": "code",
   "execution_count": 50,
   "metadata": {
    "colab": {
     "base_uri": "https://localhost:8080/",
     "height": 402
    },
    "id": "tFo6bRy5-LAe",
    "outputId": "4ed05570-c1da-45ad-8833-e03c860e8774"
   },
   "outputs": [
    {
     "data": {
      "text/plain": [
       "<AxesSubplot:>"
      ]
     },
     "execution_count": 50,
     "metadata": {},
     "output_type": "execute_result"
    },
    {
     "data": {
      "image/png": "[encoded data removed]",
      "text/plain": [
       "<Figure size 576x432 with 2 Axes>"
      ]
     },
     "metadata": {
      "needs_background": "light"
     },
     "output_type": "display_data"
    }
   ],
   "source": [
    "import matplotlib.pyplot as plt\n",
    "fig, ax = plt.subplots(1, figsize=(8, 6))\n",
    "\n",
    "merged.plot(column=\"nombre\",   ax=ax, linewidth=0.3,edgecolor=\"0.8\",legend=True,legend_kwds\n",
    "            ={\"label\": \"Total Birth by Departement\"})\n"
   ]
  },
  {
   "cell_type": "code",
   "execution_count": 51,
   "metadata": {
    "colab": {
     "base_uri": "https://localhost:8080/",
     "height": 385
    },
    "id": "_HwpQuUO-7KY",
    "outputId": "bb8152bc-e102-4758-9176-2f6dc2dc8947"
   },
   "outputs": [
    {
     "data": {
      "text/plain": [
       "<AxesSubplot:>"
      ]
     },
     "execution_count": 51,
     "metadata": {},
     "output_type": "execute_result"
    },
    {
     "data": {
      "image/png": "[encoded data removed]",
      "text/plain": [
       "<Figure size 576x432 with 2 Axes>"
      ]
     },
     "metadata": {
      "needs_background": "light"
     },
     "output_type": "display_data"
    }
   ],
   "source": [
    "# Zoom ! \n",
    "fig, ax = plt.subplots(1, figsize=(8, 6))\n",
    "plt.axis([1.5,3,48.5,49.25])\n",
    "\n",
    "merged.plot(column=\"nombre\", ax=ax , linewidth=0.3, edgecolor=\"0.5\", legend=True, legend_kwds\n",
    "            ={\"label\": \"Total Birth by Departement\"})\n"
   ]
  },
  {
   "cell_type": "markdown",
   "metadata": {
    "id": "087tASiV_vaQ"
   },
   "source": [
    "POUR ALLER PLUS LOIN : https://geopandas.org/mapping.html\n"
   ]
  },
  {
   "cell_type": "markdown",
   "metadata": {
    "id": "3RILtNIB__Aw"
   },
   "source": [
    "# **Exercices !** "
   ]
  },
  {
   "cell_type": "markdown",
   "metadata": {
    "id": "fGmDUignAEG8"
   },
   "source": [
    "*  Display a choropleth map with Boys/girls total \n",
    "births disparity\n",
    "\n",
    "*  The same but weighted by total dpt population\n",
    "\n",
    "*  Display a choropleth map with number of girls named Emma born in 2018\n",
    "\n",
    "*  The same but weighted by total dpt population ( for instance nb of Emma births per thousand of population in the dpt )\n",
    "\n",
    "\n",
    "to do this you must find a file with 2018 population for every dpt. the file must contain a department column with the same data as the prenoms dpt column...\n",
    "\n",
    "SUPERBONUS\n",
    "\n",
    "*  choropleth map for the most innovant departements , population weighted what is innovation ?\n",
    "\n",
    "*  choropleth map for the most trendsetting departements , population weighted what is trendsetting ? we could detect firstname that appear (or come again..) in one or a few departments only, and then grows in other departments.\n"
   ]
  },
  {
   "cell_type": "markdown",
   "metadata": {
    "id": "nqNdo9xI_ZA5"
   },
   "source": [
    "## Display a choropleth map with Boys/girls total births disparity"
   ]
  },
  {
   "cell_type": "code",
   "execution_count": 113,
   "metadata": {},
   "outputs": [
    {
     "data": {
      "text/html": [
       "<div>\n",
       "<style scoped>\n",
       "    .dataframe tbody tr th:only-of-type {\n",
       "        vertical-align: middle;\n",
       "    }\n",
       "\n",
       "    .dataframe tbody tr th {\n",
       "        vertical-align: top;\n",
       "    }\n",
       "\n",
       "    .dataframe thead th {\n",
       "        text-align: right;\n",
       "    }\n",
       "</style>\n",
       "<table border=\"1\" class=\"dataframe\">\n",
       "  <thead>\n",
       "    <tr style=\"text-align: right;\">\n",
       "      <th></th>\n",
       "      <th>code_insee</th>\n",
       "      <th>nom</th>\n",
       "      <th>nuts3</th>\n",
       "      <th>wikipedia</th>\n",
       "      <th>geometry</th>\n",
       "      <th>dpt</th>\n",
       "      <th>n_boys</th>\n",
       "      <th>n_girls</th>\n",
       "    </tr>\n",
       "  </thead>\n",
       "  <tbody>\n",
       "    <tr>\n",
       "      <th>0</th>\n",
       "      <td>01</td>\n",
       "      <td>Ain</td>\n",
       "      <td>FR711</td>\n",
       "      <td>b'fr:Ain (d\\xe9partement)'</td>\n",
       "      <td>POLYGON ((5.25559 45.78459, 5.23987 45.77758, ...</td>\n",
       "      <td>01</td>\n",
       "      <td>222361</td>\n",
       "      <td>215543</td>\n",
       "    </tr>\n",
       "    <tr>\n",
       "      <th>1</th>\n",
       "      <td>02</td>\n",
       "      <td>Aisne</td>\n",
       "      <td>FR221</td>\n",
       "      <td>b'fr:Aisne (d\\xe9partement)'</td>\n",
       "      <td>POLYGON ((3.48175 48.86640, 3.48647 48.85768, ...</td>\n",
       "      <td>02</td>\n",
       "      <td>428461</td>\n",
       "      <td>414479</td>\n",
       "    </tr>\n",
       "    <tr>\n",
       "      <th>2</th>\n",
       "      <td>03</td>\n",
       "      <td>Allier</td>\n",
       "      <td>FR721</td>\n",
       "      <td>b'fr:Allier (d\\xe9partement)'</td>\n",
       "      <td>POLYGON ((2.38613 46.33196, 2.38407 46.33112, ...</td>\n",
       "      <td>03</td>\n",
       "      <td>253694</td>\n",
       "      <td>244675</td>\n",
       "    </tr>\n",
       "    <tr>\n",
       "      <th>3</th>\n",
       "      <td>04</td>\n",
       "      <td>Alpes-de-Haute-Provence</td>\n",
       "      <td>FR821</td>\n",
       "      <td>fr:Alpes-de-Haute-Provence</td>\n",
       "      <td>POLYGON ((6.66579 43.83120, 6.67673 43.83178, ...</td>\n",
       "      <td>04</td>\n",
       "      <td>55230</td>\n",
       "      <td>50509</td>\n",
       "    </tr>\n",
       "    <tr>\n",
       "      <th>4</th>\n",
       "      <td>05</td>\n",
       "      <td>Hautes-Alpes</td>\n",
       "      <td>FR822</td>\n",
       "      <td>fr:Hautes-Alpes</td>\n",
       "      <td>POLYGON ((6.24158 44.44686, 6.24411 44.44693, ...</td>\n",
       "      <td>05</td>\n",
       "      <td>65182</td>\n",
       "      <td>60889</td>\n",
       "    </tr>\n",
       "  </tbody>\n",
       "</table>\n",
       "</div>"
      ],
      "text/plain": [
       "  code_insee                      nom  nuts3                      wikipedia  \\\n",
       "0         01                      Ain  FR711     b'fr:Ain (d\\xe9partement)'   \n",
       "1         02                    Aisne  FR221   b'fr:Aisne (d\\xe9partement)'   \n",
       "2         03                   Allier  FR721  b'fr:Allier (d\\xe9partement)'   \n",
       "3         04  Alpes-de-Haute-Provence  FR821     fr:Alpes-de-Haute-Provence   \n",
       "4         05             Hautes-Alpes  FR822                fr:Hautes-Alpes   \n",
       "\n",
       "                                            geometry dpt  n_boys  n_girls  \n",
       "0  POLYGON ((5.25559 45.78459, 5.23987 45.77758, ...  01  222361   215543  \n",
       "1  POLYGON ((3.48175 48.86640, 3.48647 48.85768, ...  02  428461   414479  \n",
       "2  POLYGON ((2.38613 46.33196, 2.38407 46.33112, ...  03  253694   244675  \n",
       "3  POLYGON ((6.66579 43.83120, 6.67673 43.83178, ...  04   55230    50509  \n",
       "4  POLYGON ((6.24158 44.44686, 6.24411 44.44693, ...  05   65182    60889  "
      ]
     },
     "execution_count": 113,
     "metadata": {},
     "output_type": "execute_result"
    }
   ],
   "source": [
    "dpt_boys=prenoms[prenoms.sexe == 1].groupby(\"dpt\").nombre.sum().reset_index()\n",
    "dpt_boys.rename(columns = {'nombre':'n_boys'}, inplace=True)\n",
    "\n",
    "dpt_girls=prenoms[prenoms.sexe == 2].groupby(\"dpt\").nombre.sum().reset_index()\n",
    "dpt_girls.rename(columns = {'nombre':'n_girls'}, inplace=True)\n",
    "merged =  dpt_boys.merge(dpt_girls, on='dpt')\n",
    "merged[\"code_insee\"]= merged.dpt\n",
    "\n",
    "merged = map_df.merge(merged,on=\"code_insee\")\n",
    "merged.head()\n"
   ]
  },
  {
   "cell_type": "code",
   "execution_count": 102,
   "metadata": {},
   "outputs": [
    {
     "data": {
      "text/plain": [
       "<AxesSubplot:>"
      ]
     },
     "execution_count": 102,
     "metadata": {},
     "output_type": "execute_result"
    },
    {
     "data": {
      "image/png": "[encoded data removed]",
      "text/plain": [
       "<Figure size 576x432 with 2 Axes>"
      ]
     },
     "metadata": {
      "needs_background": "light"
     },
     "output_type": "display_data"
    }
   ],
   "source": [
    "# Merge\n",
    "merged['ratio'] = merged['n_boys'] / merged['n_girls']\n",
    "merged['ratio_weighted'] = merged['ratio']\n",
    "\n",
    "fig, ax = plt.subplots(1, figsize=(8, 6))\n",
    "\n",
    "merged.plot(column=\"ratio\", ax=ax , linewidth=0.3, edgecolor=\"0.5\", legend=True, legend_kwds\n",
    "             ={\"label\": \"ratio boys and girls names by Departement\"})\n"
   ]
  },
  {
   "cell_type": "markdown",
   "metadata": {},
   "source": [
    "## The same but weighted by total dpt population"
   ]
  },
  {
   "cell_type": "code",
   "execution_count": 114,
   "metadata": {},
   "outputs": [
    {
     "data": {
      "text/html": [
       "<div>\n",
       "<style scoped>\n",
       "    .dataframe tbody tr th:only-of-type {\n",
       "        vertical-align: middle;\n",
       "    }\n",
       "\n",
       "    .dataframe tbody tr th {\n",
       "        vertical-align: top;\n",
       "    }\n",
       "\n",
       "    .dataframe thead th {\n",
       "        text-align: right;\n",
       "    }\n",
       "</style>\n",
       "<table border=\"1\" class=\"dataframe\">\n",
       "  <thead>\n",
       "    <tr style=\"text-align: right;\">\n",
       "      <th></th>\n",
       "      <th>dpt</th>\n",
       "      <th>DEP</th>\n",
       "      <th>NBARR</th>\n",
       "      <th>NBCAN</th>\n",
       "      <th>NBCOM</th>\n",
       "      <th>PMUN</th>\n",
       "      <th>PTOT</th>\n",
       "      <th>Unnamed: 7</th>\n",
       "    </tr>\n",
       "  </thead>\n",
       "  <tbody>\n",
       "    <tr>\n",
       "      <th>0</th>\n",
       "      <td>01</td>\n",
       "      <td>Ain</td>\n",
       "      <td>4</td>\n",
       "      <td>23.0</td>\n",
       "      <td>393</td>\n",
       "      <td>643350</td>\n",
       "      <td>659180</td>\n",
       "      <td>NaN</td>\n",
       "    </tr>\n",
       "    <tr>\n",
       "      <th>1</th>\n",
       "      <td>02</td>\n",
       "      <td>Aisne</td>\n",
       "      <td>5</td>\n",
       "      <td>21.0</td>\n",
       "      <td>800</td>\n",
       "      <td>534490</td>\n",
       "      <td>546527</td>\n",
       "      <td>NaN</td>\n",
       "    </tr>\n",
       "    <tr>\n",
       "      <th>2</th>\n",
       "      <td>03</td>\n",
       "      <td>Allier</td>\n",
       "      <td>3</td>\n",
       "      <td>19.0</td>\n",
       "      <td>317</td>\n",
       "      <td>337988</td>\n",
       "      <td>347035</td>\n",
       "      <td>NaN</td>\n",
       "    </tr>\n",
       "    <tr>\n",
       "      <th>3</th>\n",
       "      <td>04</td>\n",
       "      <td>Alpes-de-Haute-Provence</td>\n",
       "      <td>4</td>\n",
       "      <td>15.0</td>\n",
       "      <td>198</td>\n",
       "      <td>163915</td>\n",
       "      <td>168381</td>\n",
       "      <td>NaN</td>\n",
       "    </tr>\n",
       "    <tr>\n",
       "      <th>4</th>\n",
       "      <td>05</td>\n",
       "      <td>Hautes-Alpes</td>\n",
       "      <td>2</td>\n",
       "      <td>15.0</td>\n",
       "      <td>162</td>\n",
       "      <td>141284</td>\n",
       "      <td>145883</td>\n",
       "      <td>NaN</td>\n",
       "    </tr>\n",
       "  </tbody>\n",
       "</table>\n",
       "</div>"
      ],
      "text/plain": [
       "  dpt                      DEP  NBARR  NBCAN  NBCOM    PMUN    PTOT  \\\n",
       "0  01                      Ain      4   23.0    393  643350  659180   \n",
       "1  02                    Aisne      5   21.0    800  534490  546527   \n",
       "2  03                   Allier      3   19.0    317  337988  347035   \n",
       "3  04  Alpes-de-Haute-Provence      4   15.0    198  163915  168381   \n",
       "4  05             Hautes-Alpes      2   15.0    162  141284  145883   \n",
       "\n",
       "   Unnamed: 7  \n",
       "0         NaN  \n",
       "1         NaN  \n",
       "2         NaN  \n",
       "3         NaN  \n",
       "4         NaN  "
      ]
     },
     "execution_count": 114,
     "metadata": {},
     "output_type": "execute_result"
    }
   ],
   "source": [
    "dpt_df = pd.read_csv(\"Departements.csv\", sep=\";\")\n",
    "dpt_df.rename(columns = {'CODDEP':'dpt'}, inplace=True)\n",
    "\n",
    "dpt_df.head()"
   ]
  },
  {
   "cell_type": "code",
   "execution_count": 115,
   "metadata": {},
   "outputs": [
    {
     "data": {
      "text/html": [
       "<div>\n",
       "<style scoped>\n",
       "    .dataframe tbody tr th:only-of-type {\n",
       "        vertical-align: middle;\n",
       "    }\n",
       "\n",
       "    .dataframe tbody tr th {\n",
       "        vertical-align: top;\n",
       "    }\n",
       "\n",
       "    .dataframe thead th {\n",
       "        text-align: right;\n",
       "    }\n",
       "</style>\n",
       "<table border=\"1\" class=\"dataframe\">\n",
       "  <thead>\n",
       "    <tr style=\"text-align: right;\">\n",
       "      <th></th>\n",
       "      <th>code_insee</th>\n",
       "      <th>nom</th>\n",
       "      <th>nuts3</th>\n",
       "      <th>wikipedia</th>\n",
       "      <th>geometry</th>\n",
       "      <th>dpt</th>\n",
       "      <th>n_boys</th>\n",
       "      <th>n_girls</th>\n",
       "      <th>DEP</th>\n",
       "      <th>NBARR</th>\n",
       "      <th>NBCAN</th>\n",
       "      <th>NBCOM</th>\n",
       "      <th>PMUN</th>\n",
       "      <th>PTOT</th>\n",
       "      <th>Unnamed: 7</th>\n",
       "    </tr>\n",
       "  </thead>\n",
       "  <tbody>\n",
       "    <tr>\n",
       "      <th>0</th>\n",
       "      <td>01</td>\n",
       "      <td>Ain</td>\n",
       "      <td>FR711</td>\n",
       "      <td>b'fr:Ain (d\\xe9partement)'</td>\n",
       "      <td>POLYGON ((5.25559 45.78459, 5.23987 45.77758, ...</td>\n",
       "      <td>01</td>\n",
       "      <td>222361</td>\n",
       "      <td>215543</td>\n",
       "      <td>Ain</td>\n",
       "      <td>4</td>\n",
       "      <td>23.0</td>\n",
       "      <td>393</td>\n",
       "      <td>643350</td>\n",
       "      <td>659180</td>\n",
       "      <td>NaN</td>\n",
       "    </tr>\n",
       "    <tr>\n",
       "      <th>1</th>\n",
       "      <td>02</td>\n",
       "      <td>Aisne</td>\n",
       "      <td>FR221</td>\n",
       "      <td>b'fr:Aisne (d\\xe9partement)'</td>\n",
       "      <td>POLYGON ((3.48175 48.86640, 3.48647 48.85768, ...</td>\n",
       "      <td>02</td>\n",
       "      <td>428461</td>\n",
       "      <td>414479</td>\n",
       "      <td>Aisne</td>\n",
       "      <td>5</td>\n",
       "      <td>21.0</td>\n",
       "      <td>800</td>\n",
       "      <td>534490</td>\n",
       "      <td>546527</td>\n",
       "      <td>NaN</td>\n",
       "    </tr>\n",
       "    <tr>\n",
       "      <th>2</th>\n",
       "      <td>03</td>\n",
       "      <td>Allier</td>\n",
       "      <td>FR721</td>\n",
       "      <td>b'fr:Allier (d\\xe9partement)'</td>\n",
       "      <td>POLYGON ((2.38613 46.33196, 2.38407 46.33112, ...</td>\n",
       "      <td>03</td>\n",
       "      <td>253694</td>\n",
       "      <td>244675</td>\n",
       "      <td>Allier</td>\n",
       "      <td>3</td>\n",
       "      <td>19.0</td>\n",
       "      <td>317</td>\n",
       "      <td>337988</td>\n",
       "      <td>347035</td>\n",
       "      <td>NaN</td>\n",
       "    </tr>\n",
       "    <tr>\n",
       "      <th>3</th>\n",
       "      <td>04</td>\n",
       "      <td>Alpes-de-Haute-Provence</td>\n",
       "      <td>FR821</td>\n",
       "      <td>fr:Alpes-de-Haute-Provence</td>\n",
       "      <td>POLYGON ((6.66579 43.83120, 6.67673 43.83178, ...</td>\n",
       "      <td>04</td>\n",
       "      <td>55230</td>\n",
       "      <td>50509</td>\n",
       "      <td>Alpes-de-Haute-Provence</td>\n",
       "      <td>4</td>\n",
       "      <td>15.0</td>\n",
       "      <td>198</td>\n",
       "      <td>163915</td>\n",
       "      <td>168381</td>\n",
       "      <td>NaN</td>\n",
       "    </tr>\n",
       "    <tr>\n",
       "      <th>4</th>\n",
       "      <td>05</td>\n",
       "      <td>Hautes-Alpes</td>\n",
       "      <td>FR822</td>\n",
       "      <td>fr:Hautes-Alpes</td>\n",
       "      <td>POLYGON ((6.24158 44.44686, 6.24411 44.44693, ...</td>\n",
       "      <td>05</td>\n",
       "      <td>65182</td>\n",
       "      <td>60889</td>\n",
       "      <td>Hautes-Alpes</td>\n",
       "      <td>2</td>\n",
       "      <td>15.0</td>\n",
       "      <td>162</td>\n",
       "      <td>141284</td>\n",
       "      <td>145883</td>\n",
       "      <td>NaN</td>\n",
       "    </tr>\n",
       "  </tbody>\n",
       "</table>\n",
       "</div>"
      ],
      "text/plain": [
       "  code_insee                      nom  nuts3                      wikipedia  \\\n",
       "0         01                      Ain  FR711     b'fr:Ain (d\\xe9partement)'   \n",
       "1         02                    Aisne  FR221   b'fr:Aisne (d\\xe9partement)'   \n",
       "2         03                   Allier  FR721  b'fr:Allier (d\\xe9partement)'   \n",
       "3         04  Alpes-de-Haute-Provence  FR821     fr:Alpes-de-Haute-Provence   \n",
       "4         05             Hautes-Alpes  FR822                fr:Hautes-Alpes   \n",
       "\n",
       "                                            geometry dpt  n_boys  n_girls  \\\n",
       "0  POLYGON ((5.25559 45.78459, 5.23987 45.77758, ...  01  222361   215543   \n",
       "1  POLYGON ((3.48175 48.86640, 3.48647 48.85768, ...  02  428461   414479   \n",
       "2  POLYGON ((2.38613 46.33196, 2.38407 46.33112, ...  03  253694   244675   \n",
       "3  POLYGON ((6.66579 43.83120, 6.67673 43.83178, ...  04   55230    50509   \n",
       "4  POLYGON ((6.24158 44.44686, 6.24411 44.44693, ...  05   65182    60889   \n",
       "\n",
       "                       DEP  NBARR  NBCAN  NBCOM    PMUN    PTOT  Unnamed: 7  \n",
       "0                      Ain      4   23.0    393  643350  659180         NaN  \n",
       "1                    Aisne      5   21.0    800  534490  546527         NaN  \n",
       "2                   Allier      3   19.0    317  337988  347035         NaN  \n",
       "3  Alpes-de-Haute-Provence      4   15.0    198  163915  168381         NaN  \n",
       "4             Hautes-Alpes      2   15.0    162  141284  145883         NaN  "
      ]
     },
     "execution_count": 115,
     "metadata": {},
     "output_type": "execute_result"
    }
   ],
   "source": [
    "merged = merged.merge(dpt_df, on=\"dpt\")\n",
    "merged.head()"
   ]
  },
  {
   "cell_type": "code",
   "execution_count": 121,
   "metadata": {},
   "outputs": [
    {
     "data": {
      "text/plain": [
       "<AxesSubplot:>"
      ]
     },
     "execution_count": 121,
     "metadata": {},
     "output_type": "execute_result"
    },
    {
     "data": {
      "image/png": "[encoded data removed]",
      "text/plain": [
       "<Figure size 576x432 with 2 Axes>"
      ]
     },
     "metadata": {
      "needs_background": "light"
     },
     "output_type": "display_data"
    }
   ],
   "source": [
    "fig, ax = plt.subplots(1, figsize=(8, 6))\n",
    "merged['NbBoysSuppBy1000'] = (merged['n_boys'] - merged['n_girls']) / merged['PTOT'] * 1000\n",
    "\n",
    "merged.plot(column=\"NbBoysSuppBy1000\", ax=ax , linewidth=0.3, edgecolor=\"0.5\", legend=True, legend_kwds\n",
    "             ={\"label\": \"Supp boys by 1000 people by Departement\"})\n"
   ]
  },
  {
   "cell_type": "markdown",
   "metadata": {},
   "source": [
    "## Display a choropleth map with number of girls named Emma born in 2018\n",
    "\n"
   ]
  },
  {
   "cell_type": "code",
   "execution_count": 133,
   "metadata": {},
   "outputs": [
    {
     "data": {
      "text/plain": [
       "<AxesSubplot:>"
      ]
     },
     "execution_count": 133,
     "metadata": {},
     "output_type": "execute_result"
    },
    {
     "data": {
      "image/png": "[encoded data removed]",
      "text/plain": [
       "<Figure size 576x432 with 2 Axes>"
      ]
     },
     "metadata": {
      "needs_background": "light"
     },
     "output_type": "display_data"
    }
   ],
   "source": [
    "dpt_emma=prenoms[prenoms.preusuel == 'EMMA'].groupby(\"dpt\").nombre.sum().reset_index()\n",
    "dpt_emma[\"code_insee\"]= dpt_emma.dpt\n",
    "\n",
    "# Merge\n",
    "\n",
    "merged = map_df.merge(dpt_emma,on=\"code_insee\")\n",
    "\n",
    "# plot\n",
    "fig, ax = plt.subplots(1, figsize=(8, 6))\n",
    "\n",
    "merged.plot(column=\"nombre\", ax=ax , linewidth=0.3, edgecolor=\"0.5\", legend=True, legend_kwds\n",
    "             ={\"label\": \"number of Emma by Departement\"})\n"
   ]
  },
  {
   "cell_type": "code",
   "execution_count": null,
   "metadata": {},
   "outputs": [],
   "source": []
  },
  {
   "cell_type": "markdown",
   "metadata": {},
   "source": [
    "## The same but weighted by total dpt population ( for instance nb of Emma births per thousand of population in the dpt )\n"
   ]
  },
  {
   "cell_type": "code",
   "execution_count": 134,
   "metadata": {},
   "outputs": [
    {
     "data": {
      "text/plain": [
       "<AxesSubplot:>"
      ]
     },
     "execution_count": 134,
     "metadata": {},
     "output_type": "execute_result"
    },
    {
     "data": {
      "image/png": "[encoded data removed]",
      "text/plain": [
       "<Figure size 576x432 with 2 Axes>"
      ]
     },
     "metadata": {
      "needs_background": "light"
     },
     "output_type": "display_data"
    }
   ],
   "source": [
    "# merge\n",
    "merged = merged.merge(dpt_df, on=\"dpt\")\n",
    "merged[\"prop\"] = merged[\"nombre\"] / merged['PTOT'] * 1000\n",
    "\n",
    "# plot\n",
    "fig, ax = plt.subplots(1, figsize=(8, 6))\n",
    "\n",
    "merged.plot(column=\"prop\", ax=ax , linewidth=0.3, edgecolor=\"0.5\", legend=True, legend_kwds\n",
    "             ={\"label\": \"number of Emma by Departement for 1000 hab\"})\n"
   ]
  },
  {
   "cell_type": "markdown",
   "metadata": {},
   "source": [
    "## choropleth map for the most innovant departements , population weighted what is innovation ?"
   ]
  },
  {
   "cell_type": "code",
   "execution_count": 139,
   "metadata": {},
   "outputs": [
    {
     "data": {
      "text/html": [
       "<div>\n",
       "<style scoped>\n",
       "    .dataframe tbody tr th:only-of-type {\n",
       "        vertical-align: middle;\n",
       "    }\n",
       "\n",
       "    .dataframe tbody tr th {\n",
       "        vertical-align: top;\n",
       "    }\n",
       "\n",
       "    .dataframe thead th {\n",
       "        text-align: right;\n",
       "    }\n",
       "</style>\n",
       "<table border=\"1\" class=\"dataframe\">\n",
       "  <thead>\n",
       "    <tr style=\"text-align: right;\">\n",
       "      <th></th>\n",
       "      <th>sexe</th>\n",
       "      <th>annais</th>\n",
       "      <th>dpt</th>\n",
       "      <th>nombre</th>\n",
       "    </tr>\n",
       "    <tr>\n",
       "      <th>preusuel</th>\n",
       "      <th></th>\n",
       "      <th></th>\n",
       "      <th></th>\n",
       "      <th></th>\n",
       "    </tr>\n",
       "  </thead>\n",
       "  <tbody>\n",
       "    <tr>\n",
       "      <th>AADIL</th>\n",
       "      <td>1</td>\n",
       "      <td>1983</td>\n",
       "      <td>84</td>\n",
       "      <td>3</td>\n",
       "    </tr>\n",
       "    <tr>\n",
       "      <th>AAHIL</th>\n",
       "      <td>1</td>\n",
       "      <td>2016</td>\n",
       "      <td>95</td>\n",
       "      <td>3</td>\n",
       "    </tr>\n",
       "    <tr>\n",
       "      <th>AALIYA</th>\n",
       "      <td>2</td>\n",
       "      <td>2017</td>\n",
       "      <td>75</td>\n",
       "      <td>3</td>\n",
       "    </tr>\n",
       "    <tr>\n",
       "      <th>AALIYAH</th>\n",
       "      <td>2</td>\n",
       "      <td>2001</td>\n",
       "      <td>92</td>\n",
       "      <td>4</td>\n",
       "    </tr>\n",
       "    <tr>\n",
       "      <th>AALYA</th>\n",
       "      <td>2</td>\n",
       "      <td>2010</td>\n",
       "      <td>78</td>\n",
       "      <td>3</td>\n",
       "    </tr>\n",
       "  </tbody>\n",
       "</table>\n",
       "</div>"
      ],
      "text/plain": [
       "          sexe annais dpt  nombre\n",
       "preusuel                         \n",
       "AADIL        1   1983  84       3\n",
       "AAHIL        1   2016  95       3\n",
       "AALIYA       2   2017  75       3\n",
       "AALIYAH      2   2001  92       4\n",
       "AALYA        2   2010  78       3"
      ]
     },
     "execution_count": 139,
     "metadata": {},
     "output_type": "execute_result"
    }
   ],
   "source": [
    "## combien de nouveau noms inventés par an par département \n",
    "# get the first occurences of all the firstnames\n",
    "first_occ = prenoms.groupby('preusuel').first()\n",
    "\n",
    "# remove of course the first year (1900 as all the names will be considered as the first occurences)\n",
    "first_occ = first_occ[(first_occ.annais != '1900')]\n",
    "first_occ = first_occ[(first_occ.dpt != 'XX')]\n",
    "first_occ.head()"
   ]
  },
  {
   "cell_type": "code",
   "execution_count": 148,
   "metadata": {},
   "outputs": [
    {
     "data": {
      "text/plain": [
       "<AxesSubplot:>"
      ]
     },
     "execution_count": 148,
     "metadata": {},
     "output_type": "execute_result"
    },
    {
     "data": {
      "image/png": "[encoded data removed]",
      "text/plain": [
       "<Figure size 576x432 with 2 Axes>"
      ]
     },
     "metadata": {
      "needs_background": "light"
     },
     "output_type": "display_data"
    }
   ],
   "source": [
    "dpt_new_names=prenoms.groupby(\"dpt\").nombre.sum().reset_index() \n",
    "dpt_new_names[\"code_insee\"]= dpt_new_names.dpt\n",
    "\n",
    "# to have a number by year\n",
    "dpt_new_names['nombre'] = dpt_new_names['nombre'] / (2018 - 1901)\n",
    "\n",
    "# Merge\n",
    "\n",
    "merged = map_df.merge(dpt_new_names,on=\"code_insee\")\n",
    "\n",
    "# merge\n",
    "merged = merged.merge(dpt_df, on=\"dpt\")\n",
    "merged[\"prop\"] = merged[\"nombre\"] / merged['PTOT'] * 1000\n",
    "\n",
    "# plot\n",
    "fig, ax = plt.subplots(1, figsize=(8, 6))\n",
    "\n",
    "merged.plot(column=\"prop\", ax=ax , linewidth=0.3, edgecolor=\"0.5\", legend=True, legend_kwds\n",
    "             ={\"label\": \"Number of new names by 1000 inhabitants by dep per year from 1901 to 2018\"})\n"
   ]
  },
  {
   "cell_type": "markdown",
   "metadata": {},
   "source": [
    "##     choropleth map for the most trendsetting departements , population weighted what is trendsetting ? we could detect firstname that appear (or come again..) in one or a few departments only, and then grows in other departments.\n"
   ]
  },
  {
   "cell_type": "code",
   "execution_count": 202,
   "metadata": {},
   "outputs": [
    {
     "name": "stderr",
     "output_type": "stream",
     "text": [
      "/home/axelthevenot/.local/lib/python3.6/site-packages/ipykernel_launcher.py:4: SettingWithCopyWarning: \n",
      "A value is trying to be set on a copy of a slice from a DataFrame.\n",
      "Try using .loc[row_indexer,col_indexer] = value instead\n",
      "\n",
      "See the caveats in the documentation: https://pandas.pydata.org/pandas-docs/stable/user_guide/indexing.html#returning-a-view-versus-a-copy\n",
      "  after removing the cwd from sys.path.\n"
     ]
    },
    {
     "data": {
      "text/html": [
       "<div>\n",
       "<style scoped>\n",
       "    .dataframe tbody tr th:only-of-type {\n",
       "        vertical-align: middle;\n",
       "    }\n",
       "\n",
       "    .dataframe tbody tr th {\n",
       "        vertical-align: top;\n",
       "    }\n",
       "\n",
       "    .dataframe thead th {\n",
       "        text-align: right;\n",
       "    }\n",
       "</style>\n",
       "<table border=\"1\" class=\"dataframe\">\n",
       "  <thead>\n",
       "    <tr style=\"text-align: right;\">\n",
       "      <th></th>\n",
       "      <th>preusuel</th>\n",
       "      <th>sexe_x</th>\n",
       "      <th>annais_x</th>\n",
       "      <th>dpt_x</th>\n",
       "      <th>nombre_x</th>\n",
       "      <th>sexe_y</th>\n",
       "      <th>annais_y</th>\n",
       "      <th>dpt_y</th>\n",
       "      <th>nombre_y</th>\n",
       "      <th>annais_offset</th>\n",
       "    </tr>\n",
       "  </thead>\n",
       "  <tbody>\n",
       "    <tr>\n",
       "      <th>0</th>\n",
       "      <td>AALIYAH</td>\n",
       "      <td>2</td>\n",
       "      <td>2001</td>\n",
       "      <td>92</td>\n",
       "      <td>4</td>\n",
       "      <td>2</td>\n",
       "      <td>2002</td>\n",
       "      <td>06</td>\n",
       "      <td>3</td>\n",
       "      <td>2001</td>\n",
       "    </tr>\n",
       "    <tr>\n",
       "      <th>1</th>\n",
       "      <td>AALIYAH</td>\n",
       "      <td>2</td>\n",
       "      <td>2001</td>\n",
       "      <td>92</td>\n",
       "      <td>4</td>\n",
       "      <td>2</td>\n",
       "      <td>2002</td>\n",
       "      <td>13</td>\n",
       "      <td>3</td>\n",
       "      <td>2001</td>\n",
       "    </tr>\n",
       "    <tr>\n",
       "      <th>2</th>\n",
       "      <td>AALIYAH</td>\n",
       "      <td>2</td>\n",
       "      <td>2001</td>\n",
       "      <td>92</td>\n",
       "      <td>4</td>\n",
       "      <td>2</td>\n",
       "      <td>2002</td>\n",
       "      <td>75</td>\n",
       "      <td>4</td>\n",
       "      <td>2001</td>\n",
       "    </tr>\n",
       "    <tr>\n",
       "      <th>3</th>\n",
       "      <td>AALIYAH</td>\n",
       "      <td>2</td>\n",
       "      <td>2001</td>\n",
       "      <td>92</td>\n",
       "      <td>4</td>\n",
       "      <td>2</td>\n",
       "      <td>2002</td>\n",
       "      <td>83</td>\n",
       "      <td>3</td>\n",
       "      <td>2001</td>\n",
       "    </tr>\n",
       "    <tr>\n",
       "      <th>4</th>\n",
       "      <td>AALIYAH</td>\n",
       "      <td>2</td>\n",
       "      <td>2001</td>\n",
       "      <td>92</td>\n",
       "      <td>4</td>\n",
       "      <td>2</td>\n",
       "      <td>2002</td>\n",
       "      <td>93</td>\n",
       "      <td>7</td>\n",
       "      <td>2001</td>\n",
       "    </tr>\n",
       "    <tr>\n",
       "      <th>...</th>\n",
       "      <td>...</td>\n",
       "      <td>...</td>\n",
       "      <td>...</td>\n",
       "      <td>...</td>\n",
       "      <td>...</td>\n",
       "      <td>...</td>\n",
       "      <td>...</td>\n",
       "      <td>...</td>\n",
       "      <td>...</td>\n",
       "      <td>...</td>\n",
       "    </tr>\n",
       "    <tr>\n",
       "      <th>15492</th>\n",
       "      <td>ÉVELYNE</td>\n",
       "      <td>2</td>\n",
       "      <td>1947</td>\n",
       "      <td>75</td>\n",
       "      <td>4</td>\n",
       "      <td>2</td>\n",
       "      <td>1948</td>\n",
       "      <td>78</td>\n",
       "      <td>3</td>\n",
       "      <td>1947</td>\n",
       "    </tr>\n",
       "    <tr>\n",
       "      <th>15493</th>\n",
       "      <td>ÉVY</td>\n",
       "      <td>2</td>\n",
       "      <td>2017</td>\n",
       "      <td>42</td>\n",
       "      <td>3</td>\n",
       "      <td>2</td>\n",
       "      <td>2018</td>\n",
       "      <td>57</td>\n",
       "      <td>3</td>\n",
       "      <td>2017</td>\n",
       "    </tr>\n",
       "    <tr>\n",
       "      <th>15494</th>\n",
       "      <td>ÉVY</td>\n",
       "      <td>2</td>\n",
       "      <td>2017</td>\n",
       "      <td>42</td>\n",
       "      <td>3</td>\n",
       "      <td>2</td>\n",
       "      <td>2018</td>\n",
       "      <td>69</td>\n",
       "      <td>4</td>\n",
       "      <td>2017</td>\n",
       "    </tr>\n",
       "    <tr>\n",
       "      <th>15495</th>\n",
       "      <td>ÉZÉCHIEL</td>\n",
       "      <td>1</td>\n",
       "      <td>2015</td>\n",
       "      <td>93</td>\n",
       "      <td>3</td>\n",
       "      <td>1</td>\n",
       "      <td>2016</td>\n",
       "      <td>59</td>\n",
       "      <td>3</td>\n",
       "      <td>2015</td>\n",
       "    </tr>\n",
       "    <tr>\n",
       "      <th>15496</th>\n",
       "      <td>ÉZÉCHIEL</td>\n",
       "      <td>1</td>\n",
       "      <td>2015</td>\n",
       "      <td>93</td>\n",
       "      <td>3</td>\n",
       "      <td>1</td>\n",
       "      <td>2016</td>\n",
       "      <td>75</td>\n",
       "      <td>4</td>\n",
       "      <td>2015</td>\n",
       "    </tr>\n",
       "  </tbody>\n",
       "</table>\n",
       "<p>15497 rows × 10 columns</p>\n",
       "</div>"
      ],
      "text/plain": [
       "       preusuel  sexe_x annais_x dpt_x  nombre_x  sexe_y annais_y dpt_y  \\\n",
       "0       AALIYAH       2     2001    92         4       2     2002    06   \n",
       "1       AALIYAH       2     2001    92         4       2     2002    13   \n",
       "2       AALIYAH       2     2001    92         4       2     2002    75   \n",
       "3       AALIYAH       2     2001    92         4       2     2002    83   \n",
       "4       AALIYAH       2     2001    92         4       2     2002    93   \n",
       "...         ...     ...      ...   ...       ...     ...      ...   ...   \n",
       "15492   ÉVELYNE       2     1947    75         4       2     1948    78   \n",
       "15493       ÉVY       2     2017    42         3       2     2018    57   \n",
       "15494       ÉVY       2     2017    42         3       2     2018    69   \n",
       "15495  ÉZÉCHIEL       1     2015    93         3       1     2016    59   \n",
       "15496  ÉZÉCHIEL       1     2015    93         3       1     2016    75   \n",
       "\n",
       "       nombre_y annais_offset  \n",
       "0             3          2001  \n",
       "1             3          2001  \n",
       "2             4          2001  \n",
       "3             3          2001  \n",
       "4             7          2001  \n",
       "...         ...           ...  \n",
       "15492         3          1947  \n",
       "15493         3          2017  \n",
       "15494         4          2017  \n",
       "15495         3          2015  \n",
       "15496         4          2015  \n",
       "\n",
       "[15497 rows x 10 columns]"
      ]
     },
     "execution_count": 202,
     "metadata": {},
     "output_type": "execute_result"
    }
   ],
   "source": [
    "prenoms_clean = prenoms[prenoms.annais != 'XXXX']  # clean to convert to int\n",
    "\n",
    "# create an offet key with one year diff\n",
    "prenoms_clean['annais_offset'] = (prenoms_clean['annais'].astype(int) - 1).astype(str)\n",
    "\n",
    "# link each new name in a dep with the same name the next year\n",
    "first_occ_trend = first_occ.merge(\n",
    "    prenoms_clean, \n",
    "    left_on = ['preusuel', 'annais'],\n",
    "    right_on = ['preusuel', 'annais_offset'], \n",
    "    how = 'inner'\n",
    ")\n",
    "first_occ_trend"
   ]
  },
  {
   "cell_type": "code",
   "execution_count": 205,
   "metadata": {},
   "outputs": [
    {
     "data": {
      "text/html": [
       "<div>\n",
       "<style scoped>\n",
       "    .dataframe tbody tr th:only-of-type {\n",
       "        vertical-align: middle;\n",
       "    }\n",
       "\n",
       "    .dataframe tbody tr th {\n",
       "        vertical-align: top;\n",
       "    }\n",
       "\n",
       "    .dataframe thead th {\n",
       "        text-align: right;\n",
       "    }\n",
       "</style>\n",
       "<table border=\"1\" class=\"dataframe\">\n",
       "  <thead>\n",
       "    <tr style=\"text-align: right;\">\n",
       "      <th></th>\n",
       "      <th>preusuel</th>\n",
       "      <th>sexe_x</th>\n",
       "      <th>annais_x</th>\n",
       "      <th>dpt_x</th>\n",
       "      <th>nombre_x</th>\n",
       "      <th>sexe_y</th>\n",
       "      <th>annais_y</th>\n",
       "      <th>dpt_y</th>\n",
       "      <th>nombre_y</th>\n",
       "      <th>annais_offset</th>\n",
       "    </tr>\n",
       "  </thead>\n",
       "  <tbody>\n",
       "    <tr>\n",
       "      <th>0</th>\n",
       "      <td>AALIYAH</td>\n",
       "      <td>2</td>\n",
       "      <td>2001</td>\n",
       "      <td>92</td>\n",
       "      <td>4</td>\n",
       "      <td>2</td>\n",
       "      <td>2002</td>\n",
       "      <td>06</td>\n",
       "      <td>3</td>\n",
       "      <td>2001</td>\n",
       "    </tr>\n",
       "    <tr>\n",
       "      <th>1</th>\n",
       "      <td>AALIYAH</td>\n",
       "      <td>2</td>\n",
       "      <td>2001</td>\n",
       "      <td>92</td>\n",
       "      <td>4</td>\n",
       "      <td>2</td>\n",
       "      <td>2002</td>\n",
       "      <td>13</td>\n",
       "      <td>3</td>\n",
       "      <td>2001</td>\n",
       "    </tr>\n",
       "    <tr>\n",
       "      <th>2</th>\n",
       "      <td>AALIYAH</td>\n",
       "      <td>2</td>\n",
       "      <td>2001</td>\n",
       "      <td>92</td>\n",
       "      <td>4</td>\n",
       "      <td>2</td>\n",
       "      <td>2002</td>\n",
       "      <td>75</td>\n",
       "      <td>4</td>\n",
       "      <td>2001</td>\n",
       "    </tr>\n",
       "    <tr>\n",
       "      <th>3</th>\n",
       "      <td>AALIYAH</td>\n",
       "      <td>2</td>\n",
       "      <td>2001</td>\n",
       "      <td>92</td>\n",
       "      <td>4</td>\n",
       "      <td>2</td>\n",
       "      <td>2002</td>\n",
       "      <td>83</td>\n",
       "      <td>3</td>\n",
       "      <td>2001</td>\n",
       "    </tr>\n",
       "    <tr>\n",
       "      <th>4</th>\n",
       "      <td>AALIYAH</td>\n",
       "      <td>2</td>\n",
       "      <td>2001</td>\n",
       "      <td>92</td>\n",
       "      <td>4</td>\n",
       "      <td>2</td>\n",
       "      <td>2002</td>\n",
       "      <td>93</td>\n",
       "      <td>7</td>\n",
       "      <td>2001</td>\n",
       "    </tr>\n",
       "    <tr>\n",
       "      <th>...</th>\n",
       "      <td>...</td>\n",
       "      <td>...</td>\n",
       "      <td>...</td>\n",
       "      <td>...</td>\n",
       "      <td>...</td>\n",
       "      <td>...</td>\n",
       "      <td>...</td>\n",
       "      <td>...</td>\n",
       "      <td>...</td>\n",
       "      <td>...</td>\n",
       "    </tr>\n",
       "    <tr>\n",
       "      <th>15492</th>\n",
       "      <td>ÉVELYNE</td>\n",
       "      <td>2</td>\n",
       "      <td>1947</td>\n",
       "      <td>75</td>\n",
       "      <td>4</td>\n",
       "      <td>2</td>\n",
       "      <td>1948</td>\n",
       "      <td>78</td>\n",
       "      <td>3</td>\n",
       "      <td>1947</td>\n",
       "    </tr>\n",
       "    <tr>\n",
       "      <th>15493</th>\n",
       "      <td>ÉVY</td>\n",
       "      <td>2</td>\n",
       "      <td>2017</td>\n",
       "      <td>42</td>\n",
       "      <td>3</td>\n",
       "      <td>2</td>\n",
       "      <td>2018</td>\n",
       "      <td>57</td>\n",
       "      <td>3</td>\n",
       "      <td>2017</td>\n",
       "    </tr>\n",
       "    <tr>\n",
       "      <th>15494</th>\n",
       "      <td>ÉVY</td>\n",
       "      <td>2</td>\n",
       "      <td>2017</td>\n",
       "      <td>42</td>\n",
       "      <td>3</td>\n",
       "      <td>2</td>\n",
       "      <td>2018</td>\n",
       "      <td>69</td>\n",
       "      <td>4</td>\n",
       "      <td>2017</td>\n",
       "    </tr>\n",
       "    <tr>\n",
       "      <th>15495</th>\n",
       "      <td>ÉZÉCHIEL</td>\n",
       "      <td>1</td>\n",
       "      <td>2015</td>\n",
       "      <td>93</td>\n",
       "      <td>3</td>\n",
       "      <td>1</td>\n",
       "      <td>2016</td>\n",
       "      <td>59</td>\n",
       "      <td>3</td>\n",
       "      <td>2015</td>\n",
       "    </tr>\n",
       "    <tr>\n",
       "      <th>15496</th>\n",
       "      <td>ÉZÉCHIEL</td>\n",
       "      <td>1</td>\n",
       "      <td>2015</td>\n",
       "      <td>93</td>\n",
       "      <td>3</td>\n",
       "      <td>1</td>\n",
       "      <td>2016</td>\n",
       "      <td>75</td>\n",
       "      <td>4</td>\n",
       "      <td>2015</td>\n",
       "    </tr>\n",
       "  </tbody>\n",
       "</table>\n",
       "<p>13676 rows × 10 columns</p>\n",
       "</div>"
      ],
      "text/plain": [
       "       preusuel  sexe_x annais_x dpt_x  nombre_x  sexe_y annais_y dpt_y  \\\n",
       "0       AALIYAH       2     2001    92         4       2     2002    06   \n",
       "1       AALIYAH       2     2001    92         4       2     2002    13   \n",
       "2       AALIYAH       2     2001    92         4       2     2002    75   \n",
       "3       AALIYAH       2     2001    92         4       2     2002    83   \n",
       "4       AALIYAH       2     2001    92         4       2     2002    93   \n",
       "...         ...     ...      ...   ...       ...     ...      ...   ...   \n",
       "15492   ÉVELYNE       2     1947    75         4       2     1948    78   \n",
       "15493       ÉVY       2     2017    42         3       2     2018    57   \n",
       "15494       ÉVY       2     2017    42         3       2     2018    69   \n",
       "15495  ÉZÉCHIEL       1     2015    93         3       1     2016    59   \n",
       "15496  ÉZÉCHIEL       1     2015    93         3       1     2016    75   \n",
       "\n",
       "       nombre_y annais_offset  \n",
       "0             3          2001  \n",
       "1             3          2001  \n",
       "2             4          2001  \n",
       "3             3          2001  \n",
       "4             7          2001  \n",
       "...         ...           ...  \n",
       "15492         3          1947  \n",
       "15493         3          2017  \n",
       "15494         4          2017  \n",
       "15495         3          2015  \n",
       "15496         4          2015  \n",
       "\n",
       "[13676 rows x 10 columns]"
      ]
     },
     "execution_count": 205,
     "metadata": {},
     "output_type": "execute_result"
    }
   ],
   "source": [
    "## clean a bit :\n",
    "#   - remove same dpt (a dpt can't trends itself)\n",
    "first_occ_trend = first_occ_trend[(first_occ_trend.dpt_x !=  first_occ_trend.dpt_y)]\n",
    "first_occ_trend"
   ]
  },
  {
   "cell_type": "code",
   "execution_count": 207,
   "metadata": {},
   "outputs": [
    {
     "data": {
      "text/plain": [
       "<AxesSubplot:>"
      ]
     },
     "execution_count": 207,
     "metadata": {},
     "output_type": "execute_result"
    },
    {
     "data": {
      "image/png": "[encoded data removed]",
      "text/plain": [
       "<Figure size 576x432 with 2 Axes>"
      ]
     },
     "metadata": {
      "needs_background": "light"
     },
     "output_type": "display_data"
    }
   ],
   "source": [
    "# count the number of dpt-names influenced the next year for each dpt\n",
    "dpt_trends=first_occ_trend.groupby([\"dpt_x\"]).nombre_x.count().reset_index() \n",
    "dpt_trends.rename(columns = {'dpt_x': 'dpt', 'nombre_x':'non_sense_score'}, inplace=True)\n",
    "\n",
    "\n",
    "dpt_trends[\"code_insee\"]= dpt_trends.dpt\n",
    "\n",
    "\n",
    "# Merge\n",
    "\n",
    "merged = map_df.merge(\n",
    "    dpt_trends,\n",
    "    left_on = ['code_insee'],\n",
    "    right_on = ['code_insee'], \n",
    "    how = 'left'\n",
    ")\n",
    "\n",
    "\n",
    "# merge\n",
    "merged = merged.merge(dpt_df, on=\"dpt\")\n",
    "merged[\"influence_score_ponderate\"] = merged[\"non_sense_score\"] / merged['PTOT'] * 1000\n",
    "\n",
    "# plot\n",
    "fig, ax = plt.subplots(1, figsize=(8, 6))\n",
    "\n",
    "merged.plot(column=\"influence_score_ponderate\", ax=ax , linewidth=0.3, edgecolor=\"0.5\", legend=True, legend_kwds\n",
    "             ={\"label\": \"influence score of the dep on new names in other dep for the next year\"})\n"
   ]
  },
  {
   "cell_type": "code",
   "execution_count": 189,
   "metadata": {},
   "outputs": [
    {
     "data": {
      "text/plain": [
       "array([1.95394278, 0.79044585, 0.58207385, 0.48382864, 0.20915001,\n",
       "       0.02856816, 0.03180459, 0.15451662, 0.00345437, 0.25628459,\n",
       "       0.20893803, 0.13829767, 0.16212907, 0.00321073, 0.19604322,\n",
       "       0.09074601, 0.00943185, 0.24066169, 0.12009745, 0.11058241,\n",
       "       0.16909487, 0.19914517, 0.05146721, 0.10396196, 0.01515511,\n",
       "       0.12565745, 0.17026883, 0.19731613, 0.00877197, 0.12281439,\n",
       "       0.13791663, 0.00371272, 0.00476521, 0.02055806, 0.06432291,\n",
       "       0.15037045, 0.12706847, 0.02930231, 0.04921059, 0.02924416,\n",
       "       0.18943601, 0.16043994, 0.01894238, 0.20126124, 0.04153945,\n",
       "       0.05052396, 0.200524  , 0.23185612, 0.05938609, 0.27449978,\n",
       "       0.00598533, 0.0186791 , 0.01865795, 0.07446271, 0.02956614,\n",
       "       0.16046222, 0.02877532, 0.00877915, 0.02415251, 0.00901333,\n",
       "       0.04828486, 0.33382121, 0.12308329, 0.01759982, 0.10388964,\n",
       "       0.00520184, 0.1819855 , 0.00501993, 0.01859336, 0.02452861,\n",
       "       0.08940739, 0.01118193, 0.00263862, 0.00686625, 0.03204642,\n",
       "       0.07072932, 0.16379032, 0.04652711, 0.06294069])"
      ]
     },
     "execution_count": 189,
     "metadata": {},
     "output_type": "execute_result"
    }
   ],
   "source": []
  }
 ],
 "metadata": {
  "colab": {
   "name": "TD3 DATA Py Analysis.ipynb",
   "provenance": []
  },
  "kernelspec": {
   "display_name": "Python 3",
   "language": "python",
   "name": "python3"
  },
  "language_info": {
   "codemirror_mode": {
    "name": "ipython",
    "version": 3
   },
   "file_extension": ".py",
   "mimetype": "text/x-python",
   "name": "python",
   "nbconvert_exporter": "python",
   "pygments_lexer": "ipython3",
   "version": "3.6.9"
  }
 },
 "nbformat": 4,
 "nbformat_minor": 1
}
